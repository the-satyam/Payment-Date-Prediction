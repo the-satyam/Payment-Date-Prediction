{
 "cells": [
  {
   "cell_type": "markdown",
   "metadata": {},
   "source": [
    "# H2HBABBA MILESTONE\n",
    "## MILESTONE OF AI BASED PAYMENT DATE PREDICTION"
   ]
  },
  {
   "cell_type": "code",
   "execution_count": 1,
   "metadata": {},
   "outputs": [],
   "source": [
    "#importing neccessary libraries\n",
    "import pandas as pd\n",
    "import numpy as np\n",
    "import  matplotlib.pyplot as plt\n",
    "import seaborn as sns\n",
    "import sklearn\n",
    "\n",
    "\n",
    "\n",
    "%matplotlib inline\n",
    "import warnings\n",
    "warnings.filterwarnings(\"ignore\")"
   ]
  },
  {
   "cell_type": "code",
   "execution_count": 2,
   "metadata": {},
   "outputs": [],
   "source": [
    "df = pd.read_csv('./H2HBABBA3010.csv')"
   ]
  },
  {
   "cell_type": "code",
   "execution_count": 3,
   "metadata": {},
   "outputs": [
    {
     "data": {
      "text/html": [
       "<div>\n",
       "<style scoped>\n",
       "    .dataframe tbody tr th:only-of-type {\n",
       "        vertical-align: middle;\n",
       "    }\n",
       "\n",
       "    .dataframe tbody tr th {\n",
       "        vertical-align: top;\n",
       "    }\n",
       "\n",
       "    .dataframe thead th {\n",
       "        text-align: right;\n",
       "    }\n",
       "</style>\n",
       "<table border=\"1\" class=\"dataframe\">\n",
       "  <thead>\n",
       "    <tr style=\"text-align: right;\">\n",
       "      <th></th>\n",
       "      <th>business_code</th>\n",
       "      <th>cust_number</th>\n",
       "      <th>name_customer</th>\n",
       "      <th>clear_date</th>\n",
       "      <th>buisness_year</th>\n",
       "      <th>doc_id</th>\n",
       "      <th>posting_date</th>\n",
       "      <th>document_create_date</th>\n",
       "      <th>document_create_date.1</th>\n",
       "      <th>due_in_date</th>\n",
       "      <th>invoice_currency</th>\n",
       "      <th>document type</th>\n",
       "      <th>posting_id</th>\n",
       "      <th>area_business</th>\n",
       "      <th>total_open_amount</th>\n",
       "      <th>baseline_create_date</th>\n",
       "      <th>cust_payment_terms</th>\n",
       "      <th>invoice_id</th>\n",
       "      <th>isOpen</th>\n",
       "    </tr>\n",
       "  </thead>\n",
       "  <tbody>\n",
       "    <tr>\n",
       "      <td>0</td>\n",
       "      <td>U001</td>\n",
       "      <td>0200769623</td>\n",
       "      <td>WAL-MAR llc</td>\n",
       "      <td>2019-06-05 00:00:00</td>\n",
       "      <td>2019.0</td>\n",
       "      <td>1.929379e+09</td>\n",
       "      <td>2019-05-26</td>\n",
       "      <td>20190525</td>\n",
       "      <td>20190526</td>\n",
       "      <td>20190610.0</td>\n",
       "      <td>USD</td>\n",
       "      <td>RV</td>\n",
       "      <td>1.0</td>\n",
       "      <td>NaN</td>\n",
       "      <td>32255.73</td>\n",
       "      <td>20190526.0</td>\n",
       "      <td>NAH4</td>\n",
       "      <td>1.929379e+09</td>\n",
       "      <td>0</td>\n",
       "    </tr>\n",
       "    <tr>\n",
       "      <td>1</td>\n",
       "      <td>U001</td>\n",
       "      <td>0200779051</td>\n",
       "      <td>AFFILI us</td>\n",
       "      <td>2019-06-10 00:00:00</td>\n",
       "      <td>2019.0</td>\n",
       "      <td>1.929394e+09</td>\n",
       "      <td>2019-05-28</td>\n",
       "      <td>20190528</td>\n",
       "      <td>20190528</td>\n",
       "      <td>20190612.0</td>\n",
       "      <td>USD</td>\n",
       "      <td>RV</td>\n",
       "      <td>1.0</td>\n",
       "      <td>NaN</td>\n",
       "      <td>95235.88</td>\n",
       "      <td>20190528.0</td>\n",
       "      <td>NAA8</td>\n",
       "      <td>1.929394e+09</td>\n",
       "      <td>0</td>\n",
       "    </tr>\n",
       "    <tr>\n",
       "      <td>2</td>\n",
       "      <td>U001</td>\n",
       "      <td>CCU013</td>\n",
       "      <td>KRAFT F foundation</td>\n",
       "      <td>2019-11-01 00:00:00</td>\n",
       "      <td>2019.0</td>\n",
       "      <td>1.929822e+09</td>\n",
       "      <td>2019-09-06</td>\n",
       "      <td>20190904</td>\n",
       "      <td>20190906</td>\n",
       "      <td>20190906.0</td>\n",
       "      <td>USD</td>\n",
       "      <td>RV</td>\n",
       "      <td>1.0</td>\n",
       "      <td>NaN</td>\n",
       "      <td>17.44</td>\n",
       "      <td>20190906.0</td>\n",
       "      <td>NAX2</td>\n",
       "      <td>1.929822e+09</td>\n",
       "      <td>0</td>\n",
       "    </tr>\n",
       "    <tr>\n",
       "      <td>3</td>\n",
       "      <td>CA02</td>\n",
       "      <td>0140104429</td>\n",
       "      <td>COSTCO foundation</td>\n",
       "      <td>NaN</td>\n",
       "      <td>2020.0</td>\n",
       "      <td>2.960627e+09</td>\n",
       "      <td>2020-04-05</td>\n",
       "      <td>20200406</td>\n",
       "      <td>20200405</td>\n",
       "      <td>20200417.0</td>\n",
       "      <td>CAD</td>\n",
       "      <td>RV</td>\n",
       "      <td>1.0</td>\n",
       "      <td>NaN</td>\n",
       "      <td>2545.09</td>\n",
       "      <td>20200407.0</td>\n",
       "      <td>CA10</td>\n",
       "      <td>2.960627e+09</td>\n",
       "      <td>1</td>\n",
       "    </tr>\n",
       "    <tr>\n",
       "      <td>4</td>\n",
       "      <td>U001</td>\n",
       "      <td>0200780383</td>\n",
       "      <td>MEIJ</td>\n",
       "      <td>2019-11-06 00:00:00</td>\n",
       "      <td>2019.0</td>\n",
       "      <td>1.929995e+09</td>\n",
       "      <td>2019-10-09</td>\n",
       "      <td>20191009</td>\n",
       "      <td>20191009</td>\n",
       "      <td>20191024.0</td>\n",
       "      <td>USD</td>\n",
       "      <td>RV</td>\n",
       "      <td>1.0</td>\n",
       "      <td>NaN</td>\n",
       "      <td>414.71</td>\n",
       "      <td>20191009.0</td>\n",
       "      <td>NAA8</td>\n",
       "      <td>1.929995e+09</td>\n",
       "      <td>0</td>\n",
       "    </tr>\n",
       "  </tbody>\n",
       "</table>\n",
       "</div>"
      ],
      "text/plain": [
       "  business_code cust_number       name_customer           clear_date  \\\n",
       "0          U001  0200769623         WAL-MAR llc  2019-06-05 00:00:00   \n",
       "1          U001  0200779051           AFFILI us  2019-06-10 00:00:00   \n",
       "2          U001      CCU013  KRAFT F foundation  2019-11-01 00:00:00   \n",
       "3          CA02  0140104429   COSTCO foundation                  NaN   \n",
       "4          U001  0200780383               MEIJ   2019-11-06 00:00:00   \n",
       "\n",
       "   buisness_year        doc_id posting_date  document_create_date  \\\n",
       "0         2019.0  1.929379e+09   2019-05-26              20190525   \n",
       "1         2019.0  1.929394e+09   2019-05-28              20190528   \n",
       "2         2019.0  1.929822e+09   2019-09-06              20190904   \n",
       "3         2020.0  2.960627e+09   2020-04-05              20200406   \n",
       "4         2019.0  1.929995e+09   2019-10-09              20191009   \n",
       "\n",
       "   document_create_date.1  due_in_date invoice_currency document type  \\\n",
       "0                20190526   20190610.0              USD            RV   \n",
       "1                20190528   20190612.0              USD            RV   \n",
       "2                20190906   20190906.0              USD            RV   \n",
       "3                20200405   20200417.0              CAD            RV   \n",
       "4                20191009   20191024.0              USD            RV   \n",
       "\n",
       "   posting_id  area_business  total_open_amount  baseline_create_date  \\\n",
       "0         1.0            NaN           32255.73            20190526.0   \n",
       "1         1.0            NaN           95235.88            20190528.0   \n",
       "2         1.0            NaN              17.44            20190906.0   \n",
       "3         1.0            NaN            2545.09            20200407.0   \n",
       "4         1.0            NaN             414.71            20191009.0   \n",
       "\n",
       "  cust_payment_terms    invoice_id  isOpen  \n",
       "0               NAH4  1.929379e+09       0  \n",
       "1               NAA8  1.929394e+09       0  \n",
       "2               NAX2  1.929822e+09       0  \n",
       "3               CA10  2.960627e+09       1  \n",
       "4               NAA8  1.929995e+09       0  "
      ]
     },
     "execution_count": 3,
     "metadata": {},
     "output_type": "execute_result"
    }
   ],
   "source": [
    "#read a file using panda now we check the head and tail of dataset\n",
    "df.head()"
   ]
  },
  {
   "cell_type": "code",
   "execution_count": 4,
   "metadata": {},
   "outputs": [
    {
     "data": {
      "text/html": [
       "<div>\n",
       "<style scoped>\n",
       "    .dataframe tbody tr th:only-of-type {\n",
       "        vertical-align: middle;\n",
       "    }\n",
       "\n",
       "    .dataframe tbody tr th {\n",
       "        vertical-align: top;\n",
       "    }\n",
       "\n",
       "    .dataframe thead th {\n",
       "        text-align: right;\n",
       "    }\n",
       "</style>\n",
       "<table border=\"1\" class=\"dataframe\">\n",
       "  <thead>\n",
       "    <tr style=\"text-align: right;\">\n",
       "      <th></th>\n",
       "      <th>business_code</th>\n",
       "      <th>cust_number</th>\n",
       "      <th>name_customer</th>\n",
       "      <th>clear_date</th>\n",
       "      <th>buisness_year</th>\n",
       "      <th>doc_id</th>\n",
       "      <th>posting_date</th>\n",
       "      <th>document_create_date</th>\n",
       "      <th>document_create_date.1</th>\n",
       "      <th>due_in_date</th>\n",
       "      <th>invoice_currency</th>\n",
       "      <th>document type</th>\n",
       "      <th>posting_id</th>\n",
       "      <th>area_business</th>\n",
       "      <th>total_open_amount</th>\n",
       "      <th>baseline_create_date</th>\n",
       "      <th>cust_payment_terms</th>\n",
       "      <th>invoice_id</th>\n",
       "      <th>isOpen</th>\n",
       "    </tr>\n",
       "  </thead>\n",
       "  <tbody>\n",
       "    <tr>\n",
       "      <td>49995</td>\n",
       "      <td>U001</td>\n",
       "      <td>0200769623</td>\n",
       "      <td>WAL-MAR</td>\n",
       "      <td>2019-11-12 00:00:00</td>\n",
       "      <td>2019.0</td>\n",
       "      <td>1.930089e+09</td>\n",
       "      <td>2019-11-02</td>\n",
       "      <td>20191101</td>\n",
       "      <td>20191102</td>\n",
       "      <td>20191117.0</td>\n",
       "      <td>USD</td>\n",
       "      <td>RV</td>\n",
       "      <td>1.0</td>\n",
       "      <td>NaN</td>\n",
       "      <td>27503.22</td>\n",
       "      <td>20191102.0</td>\n",
       "      <td>NAH4</td>\n",
       "      <td>1.930089e+09</td>\n",
       "      <td>0</td>\n",
       "    </tr>\n",
       "    <tr>\n",
       "      <td>49996</td>\n",
       "      <td>U001</td>\n",
       "      <td>0200936373</td>\n",
       "      <td>SUPE systems</td>\n",
       "      <td>2019-12-26 00:00:00</td>\n",
       "      <td>2019.0</td>\n",
       "      <td>1.930256e+09</td>\n",
       "      <td>2019-12-11</td>\n",
       "      <td>20191210</td>\n",
       "      <td>20191211</td>\n",
       "      <td>20191226.0</td>\n",
       "      <td>USD</td>\n",
       "      <td>RV</td>\n",
       "      <td>1.0</td>\n",
       "      <td>NaN</td>\n",
       "      <td>132726.26</td>\n",
       "      <td>20191211.0</td>\n",
       "      <td>NAA8</td>\n",
       "      <td>1.930256e+09</td>\n",
       "      <td>0</td>\n",
       "    </tr>\n",
       "    <tr>\n",
       "      <td>49997</td>\n",
       "      <td>U013</td>\n",
       "      <td>0100046614</td>\n",
       "      <td>PRO trust</td>\n",
       "      <td>2019-03-11 00:00:00</td>\n",
       "      <td>2019.0</td>\n",
       "      <td>1.991819e+09</td>\n",
       "      <td>2018-12-31</td>\n",
       "      <td>20181227</td>\n",
       "      <td>20181231</td>\n",
       "      <td>20190130.0</td>\n",
       "      <td>USD</td>\n",
       "      <td>RV</td>\n",
       "      <td>1.0</td>\n",
       "      <td>NaN</td>\n",
       "      <td>54600.00</td>\n",
       "      <td>20181231.0</td>\n",
       "      <td>NAVE</td>\n",
       "      <td>1.991819e+09</td>\n",
       "      <td>0</td>\n",
       "    </tr>\n",
       "    <tr>\n",
       "      <td>49998</td>\n",
       "      <td>U001</td>\n",
       "      <td>200756072</td>\n",
       "      <td>REINHA systems</td>\n",
       "      <td>2019-07-09 00:00:00</td>\n",
       "      <td>2019.0</td>\n",
       "      <td>1.929534e+09</td>\n",
       "      <td>2019-06-24</td>\n",
       "      <td>20190623</td>\n",
       "      <td>20190624</td>\n",
       "      <td>20190709.0</td>\n",
       "      <td>USD</td>\n",
       "      <td>RV</td>\n",
       "      <td>1.0</td>\n",
       "      <td>NaN</td>\n",
       "      <td>30251.83</td>\n",
       "      <td>20190624.0</td>\n",
       "      <td>NAA8</td>\n",
       "      <td>1.929534e+09</td>\n",
       "      <td>0</td>\n",
       "    </tr>\n",
       "    <tr>\n",
       "      <td>49999</td>\n",
       "      <td>U001</td>\n",
       "      <td>0200769623</td>\n",
       "      <td>WAL-MAR us</td>\n",
       "      <td>2019-10-23 00:00:00</td>\n",
       "      <td>2019.0</td>\n",
       "      <td>1.930009e+09</td>\n",
       "      <td>2019-10-13</td>\n",
       "      <td>20191013</td>\n",
       "      <td>20191013</td>\n",
       "      <td>20191028.0</td>\n",
       "      <td>USD</td>\n",
       "      <td>RV</td>\n",
       "      <td>1.0</td>\n",
       "      <td>NaN</td>\n",
       "      <td>12890.26</td>\n",
       "      <td>20191013.0</td>\n",
       "      <td>NAH4</td>\n",
       "      <td>1.930009e+09</td>\n",
       "      <td>0</td>\n",
       "    </tr>\n",
       "  </tbody>\n",
       "</table>\n",
       "</div>"
      ],
      "text/plain": [
       "      business_code cust_number   name_customer           clear_date  \\\n",
       "49995          U001  0200769623        WAL-MAR   2019-11-12 00:00:00   \n",
       "49996          U001  0200936373    SUPE systems  2019-12-26 00:00:00   \n",
       "49997          U013  0100046614       PRO trust  2019-03-11 00:00:00   \n",
       "49998          U001   200756072  REINHA systems  2019-07-09 00:00:00   \n",
       "49999          U001  0200769623      WAL-MAR us  2019-10-23 00:00:00   \n",
       "\n",
       "       buisness_year        doc_id posting_date  document_create_date  \\\n",
       "49995         2019.0  1.930089e+09   2019-11-02              20191101   \n",
       "49996         2019.0  1.930256e+09   2019-12-11              20191210   \n",
       "49997         2019.0  1.991819e+09   2018-12-31              20181227   \n",
       "49998         2019.0  1.929534e+09   2019-06-24              20190623   \n",
       "49999         2019.0  1.930009e+09   2019-10-13              20191013   \n",
       "\n",
       "       document_create_date.1  due_in_date invoice_currency document type  \\\n",
       "49995                20191102   20191117.0              USD            RV   \n",
       "49996                20191211   20191226.0              USD            RV   \n",
       "49997                20181231   20190130.0              USD            RV   \n",
       "49998                20190624   20190709.0              USD            RV   \n",
       "49999                20191013   20191028.0              USD            RV   \n",
       "\n",
       "       posting_id  area_business  total_open_amount  baseline_create_date  \\\n",
       "49995         1.0            NaN           27503.22            20191102.0   \n",
       "49996         1.0            NaN          132726.26            20191211.0   \n",
       "49997         1.0            NaN           54600.00            20181231.0   \n",
       "49998         1.0            NaN           30251.83            20190624.0   \n",
       "49999         1.0            NaN           12890.26            20191013.0   \n",
       "\n",
       "      cust_payment_terms    invoice_id  isOpen  \n",
       "49995               NAH4  1.930089e+09       0  \n",
       "49996               NAA8  1.930256e+09       0  \n",
       "49997               NAVE  1.991819e+09       0  \n",
       "49998               NAA8  1.929534e+09       0  \n",
       "49999               NAH4  1.930009e+09       0  "
      ]
     },
     "execution_count": 4,
     "metadata": {},
     "output_type": "execute_result"
    }
   ],
   "source": [
    "df.tail()"
   ]
  },
  {
   "cell_type": "code",
   "execution_count": 5,
   "metadata": {},
   "outputs": [
    {
     "data": {
      "text/plain": [
       "(50000, 19)"
      ]
     },
     "execution_count": 5,
     "metadata": {},
     "output_type": "execute_result"
    }
   ],
   "source": [
    "#shape of datset\n",
    "df.shape"
   ]
  },
  {
   "cell_type": "code",
   "execution_count": 6,
   "metadata": {
    "scrolled": true
   },
   "outputs": [
    {
     "name": "stdout",
     "output_type": "stream",
     "text": [
      "<class 'pandas.core.frame.DataFrame'>\n",
      "RangeIndex: 50000 entries, 0 to 49999\n",
      "Data columns (total 19 columns):\n",
      "business_code             50000 non-null object\n",
      "cust_number               50000 non-null object\n",
      "name_customer             50000 non-null object\n",
      "clear_date                40000 non-null object\n",
      "buisness_year             50000 non-null float64\n",
      "doc_id                    50000 non-null float64\n",
      "posting_date              50000 non-null object\n",
      "document_create_date      50000 non-null int64\n",
      "document_create_date.1    50000 non-null int64\n",
      "due_in_date               50000 non-null float64\n",
      "invoice_currency          50000 non-null object\n",
      "document type             50000 non-null object\n",
      "posting_id                50000 non-null float64\n",
      "area_business             0 non-null float64\n",
      "total_open_amount         50000 non-null float64\n",
      "baseline_create_date      50000 non-null float64\n",
      "cust_payment_terms        50000 non-null object\n",
      "invoice_id                49997 non-null float64\n",
      "isOpen                    50000 non-null int64\n",
      "dtypes: float64(8), int64(3), object(8)\n",
      "memory usage: 7.2+ MB\n"
     ]
    }
   ],
   "source": [
    "#general information\n",
    "df.info()"
   ]
  },
  {
   "cell_type": "code",
   "execution_count": 7,
   "metadata": {},
   "outputs": [
    {
     "data": {
      "text/plain": [
       "business_code                 0\n",
       "cust_number                   0\n",
       "name_customer                 0\n",
       "clear_date                10000\n",
       "buisness_year                 0\n",
       "doc_id                        0\n",
       "posting_date                  0\n",
       "document_create_date          0\n",
       "document_create_date.1        0\n",
       "due_in_date                   0\n",
       "invoice_currency              0\n",
       "document type                 0\n",
       "posting_id                    0\n",
       "area_business             50000\n",
       "total_open_amount             0\n",
       "baseline_create_date          0\n",
       "cust_payment_terms            0\n",
       "invoice_id                    3\n",
       "isOpen                        0\n",
       "dtype: int64"
      ]
     },
     "execution_count": 7,
     "metadata": {},
     "output_type": "execute_result"
    }
   ],
   "source": [
    "#counting totall null value in data set\n",
    "df.isnull().sum()"
   ]
  },
  {
   "cell_type": "code",
   "execution_count": 8,
   "metadata": {},
   "outputs": [],
   "source": [
    "#Now spliting data where clear date is null and keeping it for finall test of model\n",
    "train_data = df[df.clear_date .isnull()==False]\n",
    "test = df[df.clear_date .isnull()]"
   ]
  },
  {
   "cell_type": "code",
   "execution_count": 9,
   "metadata": {},
   "outputs": [
    {
     "name": "stdout",
     "output_type": "stream",
     "text": [
      "<class 'pandas.core.frame.DataFrame'>\n",
      "Int64Index: 40000 entries, 0 to 49999\n",
      "Data columns (total 19 columns):\n",
      "business_code             40000 non-null object\n",
      "cust_number               40000 non-null object\n",
      "name_customer             40000 non-null object\n",
      "clear_date                40000 non-null object\n",
      "buisness_year             40000 non-null float64\n",
      "doc_id                    40000 non-null float64\n",
      "posting_date              40000 non-null object\n",
      "document_create_date      40000 non-null int64\n",
      "document_create_date.1    40000 non-null int64\n",
      "due_in_date               40000 non-null float64\n",
      "invoice_currency          40000 non-null object\n",
      "document type             40000 non-null object\n",
      "posting_id                40000 non-null float64\n",
      "area_business             0 non-null float64\n",
      "total_open_amount         40000 non-null float64\n",
      "baseline_create_date      40000 non-null float64\n",
      "cust_payment_terms        40000 non-null object\n",
      "invoice_id                39997 non-null float64\n",
      "isOpen                    40000 non-null int64\n",
      "dtypes: float64(8), int64(3), object(8)\n",
      "memory usage: 6.1+ MB\n"
     ]
    }
   ],
   "source": [
    "train_data.info()"
   ]
  },
  {
   "cell_type": "code",
   "execution_count": 10,
   "metadata": {},
   "outputs": [
    {
     "name": "stdout",
     "output_type": "stream",
     "text": [
      "<class 'pandas.core.frame.DataFrame'>\n",
      "Int64Index: 10000 entries, 3 to 49989\n",
      "Data columns (total 19 columns):\n",
      "business_code             10000 non-null object\n",
      "cust_number               10000 non-null object\n",
      "name_customer             10000 non-null object\n",
      "clear_date                0 non-null object\n",
      "buisness_year             10000 non-null float64\n",
      "doc_id                    10000 non-null float64\n",
      "posting_date              10000 non-null object\n",
      "document_create_date      10000 non-null int64\n",
      "document_create_date.1    10000 non-null int64\n",
      "due_in_date               10000 non-null float64\n",
      "invoice_currency          10000 non-null object\n",
      "document type             10000 non-null object\n",
      "posting_id                10000 non-null float64\n",
      "area_business             0 non-null float64\n",
      "total_open_amount         10000 non-null float64\n",
      "baseline_create_date      10000 non-null float64\n",
      "cust_payment_terms        10000 non-null object\n",
      "invoice_id                10000 non-null float64\n",
      "isOpen                    10000 non-null int64\n",
      "dtypes: float64(8), int64(3), object(8)\n",
      "memory usage: 1.5+ MB\n"
     ]
    }
   ],
   "source": [
    "test.info()"
   ]
  },
  {
   "cell_type": "markdown",
   "metadata": {},
   "source": [
    "##### Now all the process will be applied on train_data"
   ]
  },
  {
   "cell_type": "markdown",
   "metadata": {},
   "source": [
    "## Preproccessing"
   ]
  },
  {
   "cell_type": "markdown",
   "metadata": {},
   "source": [
    "### Null imputation"
   ]
  },
  {
   "cell_type": "code",
   "execution_count": 11,
   "metadata": {},
   "outputs": [],
   "source": [
    "# Since in train_data are_business has all null value we will drop all\n",
    "\n",
    "train_data.dropna(axis=1,how='all',inplace=True)\n"
   ]
  },
  {
   "cell_type": "code",
   "execution_count": 12,
   "metadata": {},
   "outputs": [
    {
     "name": "stdout",
     "output_type": "stream",
     "text": [
      "<class 'pandas.core.frame.DataFrame'>\n",
      "Int64Index: 40000 entries, 0 to 49999\n",
      "Data columns (total 18 columns):\n",
      "business_code             40000 non-null object\n",
      "cust_number               40000 non-null object\n",
      "name_customer             40000 non-null object\n",
      "clear_date                40000 non-null object\n",
      "buisness_year             40000 non-null float64\n",
      "doc_id                    40000 non-null float64\n",
      "posting_date              40000 non-null object\n",
      "document_create_date      40000 non-null int64\n",
      "document_create_date.1    40000 non-null int64\n",
      "due_in_date               40000 non-null float64\n",
      "invoice_currency          40000 non-null object\n",
      "document type             40000 non-null object\n",
      "posting_id                40000 non-null float64\n",
      "total_open_amount         40000 non-null float64\n",
      "baseline_create_date      40000 non-null float64\n",
      "cust_payment_terms        40000 non-null object\n",
      "invoice_id                39997 non-null float64\n",
      "isOpen                    40000 non-null int64\n",
      "dtypes: float64(7), int64(3), object(8)\n",
      "memory usage: 5.8+ MB\n"
     ]
    }
   ],
   "source": [
    "train_data.info()"
   ]
  },
  {
   "cell_type": "code",
   "execution_count": 13,
   "metadata": {},
   "outputs": [
    {
     "data": {
      "text/html": [
       "<div>\n",
       "<style scoped>\n",
       "    .dataframe tbody tr th:only-of-type {\n",
       "        vertical-align: middle;\n",
       "    }\n",
       "\n",
       "    .dataframe tbody tr th {\n",
       "        vertical-align: top;\n",
       "    }\n",
       "\n",
       "    .dataframe thead th {\n",
       "        text-align: right;\n",
       "    }\n",
       "</style>\n",
       "<table border=\"1\" class=\"dataframe\">\n",
       "  <thead>\n",
       "    <tr style=\"text-align: right;\">\n",
       "      <th></th>\n",
       "      <th>business_code</th>\n",
       "      <th>cust_number</th>\n",
       "      <th>name_customer</th>\n",
       "      <th>clear_date</th>\n",
       "      <th>buisness_year</th>\n",
       "      <th>doc_id</th>\n",
       "      <th>posting_date</th>\n",
       "      <th>document_create_date</th>\n",
       "      <th>document_create_date.1</th>\n",
       "      <th>due_in_date</th>\n",
       "      <th>invoice_currency</th>\n",
       "      <th>document type</th>\n",
       "      <th>posting_id</th>\n",
       "      <th>total_open_amount</th>\n",
       "      <th>baseline_create_date</th>\n",
       "      <th>cust_payment_terms</th>\n",
       "      <th>invoice_id</th>\n",
       "      <th>isOpen</th>\n",
       "    </tr>\n",
       "  </thead>\n",
       "  <tbody>\n",
       "    <tr>\n",
       "      <td>27402</td>\n",
       "      <td>CA02</td>\n",
       "      <td>0140104223</td>\n",
       "      <td>H Y LO systems</td>\n",
       "      <td>2019-05-08 00:00:00</td>\n",
       "      <td>2019.0</td>\n",
       "      <td>9.500000e+09</td>\n",
       "      <td>2019-04-30</td>\n",
       "      <td>20190430</td>\n",
       "      <td>20190329</td>\n",
       "      <td>20190408.0</td>\n",
       "      <td>CAD</td>\n",
       "      <td>X2</td>\n",
       "      <td>1.0</td>\n",
       "      <td>44416.8</td>\n",
       "      <td>20190329.0</td>\n",
       "      <td>CA10</td>\n",
       "      <td>NaN</td>\n",
       "      <td>0</td>\n",
       "    </tr>\n",
       "    <tr>\n",
       "      <td>28265</td>\n",
       "      <td>CA02</td>\n",
       "      <td>0140106054</td>\n",
       "      <td>TREE  systems</td>\n",
       "      <td>2019-05-06 00:00:00</td>\n",
       "      <td>2019.0</td>\n",
       "      <td>9.500000e+09</td>\n",
       "      <td>2019-03-29</td>\n",
       "      <td>20190329</td>\n",
       "      <td>20190208</td>\n",
       "      <td>20190218.0</td>\n",
       "      <td>CAD</td>\n",
       "      <td>X2</td>\n",
       "      <td>1.0</td>\n",
       "      <td>29170.8</td>\n",
       "      <td>20190208.0</td>\n",
       "      <td>CA10</td>\n",
       "      <td>NaN</td>\n",
       "      <td>0</td>\n",
       "    </tr>\n",
       "    <tr>\n",
       "      <td>36624</td>\n",
       "      <td>CA02</td>\n",
       "      <td>0140106054</td>\n",
       "      <td>TREE  in</td>\n",
       "      <td>2019-05-06 00:00:00</td>\n",
       "      <td>2019.0</td>\n",
       "      <td>9.500000e+09</td>\n",
       "      <td>2019-03-29</td>\n",
       "      <td>20190329</td>\n",
       "      <td>20190128</td>\n",
       "      <td>20190207.0</td>\n",
       "      <td>CAD</td>\n",
       "      <td>X2</td>\n",
       "      <td>1.0</td>\n",
       "      <td>16848.0</td>\n",
       "      <td>20190128.0</td>\n",
       "      <td>CA10</td>\n",
       "      <td>NaN</td>\n",
       "      <td>0</td>\n",
       "    </tr>\n",
       "  </tbody>\n",
       "</table>\n",
       "</div>"
      ],
      "text/plain": [
       "      business_code cust_number   name_customer           clear_date  \\\n",
       "27402          CA02  0140104223  H Y LO systems  2019-05-08 00:00:00   \n",
       "28265          CA02  0140106054   TREE  systems  2019-05-06 00:00:00   \n",
       "36624          CA02  0140106054        TREE  in  2019-05-06 00:00:00   \n",
       "\n",
       "       buisness_year        doc_id posting_date  document_create_date  \\\n",
       "27402         2019.0  9.500000e+09   2019-04-30              20190430   \n",
       "28265         2019.0  9.500000e+09   2019-03-29              20190329   \n",
       "36624         2019.0  9.500000e+09   2019-03-29              20190329   \n",
       "\n",
       "       document_create_date.1  due_in_date invoice_currency document type  \\\n",
       "27402                20190329   20190408.0              CAD            X2   \n",
       "28265                20190208   20190218.0              CAD            X2   \n",
       "36624                20190128   20190207.0              CAD            X2   \n",
       "\n",
       "       posting_id  total_open_amount  baseline_create_date cust_payment_terms  \\\n",
       "27402         1.0            44416.8            20190329.0               CA10   \n",
       "28265         1.0            29170.8            20190208.0               CA10   \n",
       "36624         1.0            16848.0            20190128.0               CA10   \n",
       "\n",
       "       invoice_id  isOpen  \n",
       "27402         NaN       0  \n",
       "28265         NaN       0  \n",
       "36624         NaN       0  "
      ]
     },
     "execution_count": 13,
     "metadata": {},
     "output_type": "execute_result"
    }
   ],
   "source": [
    "#checking where invoice_id is null\n",
    "train_data[train_data[\"invoice_id\"].isnull()]"
   ]
  },
  {
   "cell_type": "code",
   "execution_count": 14,
   "metadata": {},
   "outputs": [
    {
     "data": {
      "text/plain": [
       "RV    39997\n",
       "X2        3\n",
       "Name: document type, dtype: int64"
      ]
     },
     "execution_count": 14,
     "metadata": {},
     "output_type": "execute_result"
    }
   ],
   "source": [
    "#document type is x2 now we will check unique value of document type\n",
    "train_data[\"document type\"].value_counts()"
   ]
  },
  {
   "cell_type": "code",
   "execution_count": 15,
   "metadata": {},
   "outputs": [],
   "source": [
    "#only 3 value of x2 is there i.e where invoice_id is null we will drop invoice id where it is null\n",
    "train_data.dropna(axis=0,subset=['invoice_id'],inplace=True)"
   ]
  },
  {
   "cell_type": "code",
   "execution_count": 16,
   "metadata": {},
   "outputs": [
    {
     "data": {
      "text/plain": [
       "(39997, 18)"
      ]
     },
     "execution_count": 16,
     "metadata": {},
     "output_type": "execute_result"
    }
   ],
   "source": [
    "train_data.shape"
   ]
  },
  {
   "cell_type": "code",
   "execution_count": 17,
   "metadata": {},
   "outputs": [
    {
     "data": {
      "text/plain": [
       "881"
      ]
     },
     "execution_count": 17,
     "metadata": {},
     "output_type": "execute_result"
    }
   ],
   "source": [
    "train_data.duplicated().sum()"
   ]
  },
  {
   "cell_type": "code",
   "execution_count": 18,
   "metadata": {},
   "outputs": [],
   "source": [
    "#removing duplicate\n",
    "train_data = train_data.drop_duplicates(keep='first')"
   ]
  },
  {
   "cell_type": "code",
   "execution_count": 19,
   "metadata": {},
   "outputs": [
    {
     "data": {
      "text/plain": [
       "0"
      ]
     },
     "execution_count": 19,
     "metadata": {},
     "output_type": "execute_result"
    }
   ],
   "source": [
    "train_data.duplicated().sum()"
   ]
  },
  {
   "cell_type": "markdown",
   "metadata": {},
   "source": [
    "### Date time conversion"
   ]
  },
  {
   "cell_type": "code",
   "execution_count": 20,
   "metadata": {},
   "outputs": [],
   "source": [
    "train_data['clear_date'] = pd.to_datetime(train_data['clear_date'],format='%Y-%m-%d %H:%M:%S') "
   ]
  },
  {
   "cell_type": "code",
   "execution_count": 21,
   "metadata": {},
   "outputs": [],
   "source": [
    "train_data['document_create_date.1']=pd.to_datetime(train_data['document_create_date.1'], format ='%Y%m%d')"
   ]
  },
  {
   "cell_type": "code",
   "execution_count": 22,
   "metadata": {},
   "outputs": [],
   "source": [
    "train_data['due_in_date']=pd.to_datetime(train_data['due_in_date'],format='%Y%m%d')"
   ]
  },
  {
   "cell_type": "code",
   "execution_count": 23,
   "metadata": {},
   "outputs": [],
   "source": [
    "train_data['posting_date']=pd.to_datetime(train_data['posting_date'],format='%Y-%m-%d')"
   ]
  },
  {
   "cell_type": "code",
   "execution_count": 24,
   "metadata": {},
   "outputs": [
    {
     "data": {
      "text/html": [
       "<div>\n",
       "<style scoped>\n",
       "    .dataframe tbody tr th:only-of-type {\n",
       "        vertical-align: middle;\n",
       "    }\n",
       "\n",
       "    .dataframe tbody tr th {\n",
       "        vertical-align: top;\n",
       "    }\n",
       "\n",
       "    .dataframe thead th {\n",
       "        text-align: right;\n",
       "    }\n",
       "</style>\n",
       "<table border=\"1\" class=\"dataframe\">\n",
       "  <thead>\n",
       "    <tr style=\"text-align: right;\">\n",
       "      <th></th>\n",
       "      <th>business_code</th>\n",
       "      <th>cust_number</th>\n",
       "      <th>name_customer</th>\n",
       "      <th>clear_date</th>\n",
       "      <th>buisness_year</th>\n",
       "      <th>doc_id</th>\n",
       "      <th>posting_date</th>\n",
       "      <th>document_create_date</th>\n",
       "      <th>document_create_date.1</th>\n",
       "      <th>due_in_date</th>\n",
       "      <th>invoice_currency</th>\n",
       "      <th>document type</th>\n",
       "      <th>posting_id</th>\n",
       "      <th>total_open_amount</th>\n",
       "      <th>baseline_create_date</th>\n",
       "      <th>cust_payment_terms</th>\n",
       "      <th>invoice_id</th>\n",
       "      <th>isOpen</th>\n",
       "    </tr>\n",
       "  </thead>\n",
       "  <tbody>\n",
       "    <tr>\n",
       "      <td>0</td>\n",
       "      <td>U001</td>\n",
       "      <td>0200769623</td>\n",
       "      <td>WAL-MAR llc</td>\n",
       "      <td>2019-06-05</td>\n",
       "      <td>2019.0</td>\n",
       "      <td>1.929379e+09</td>\n",
       "      <td>2019-05-26</td>\n",
       "      <td>20190525</td>\n",
       "      <td>2019-05-26</td>\n",
       "      <td>2019-06-10</td>\n",
       "      <td>USD</td>\n",
       "      <td>RV</td>\n",
       "      <td>1.0</td>\n",
       "      <td>32255.73</td>\n",
       "      <td>20190526.0</td>\n",
       "      <td>NAH4</td>\n",
       "      <td>1.929379e+09</td>\n",
       "      <td>0</td>\n",
       "    </tr>\n",
       "    <tr>\n",
       "      <td>1</td>\n",
       "      <td>U001</td>\n",
       "      <td>0200779051</td>\n",
       "      <td>AFFILI us</td>\n",
       "      <td>2019-06-10</td>\n",
       "      <td>2019.0</td>\n",
       "      <td>1.929394e+09</td>\n",
       "      <td>2019-05-28</td>\n",
       "      <td>20190528</td>\n",
       "      <td>2019-05-28</td>\n",
       "      <td>2019-06-12</td>\n",
       "      <td>USD</td>\n",
       "      <td>RV</td>\n",
       "      <td>1.0</td>\n",
       "      <td>95235.88</td>\n",
       "      <td>20190528.0</td>\n",
       "      <td>NAA8</td>\n",
       "      <td>1.929394e+09</td>\n",
       "      <td>0</td>\n",
       "    </tr>\n",
       "    <tr>\n",
       "      <td>2</td>\n",
       "      <td>U001</td>\n",
       "      <td>CCU013</td>\n",
       "      <td>KRAFT F foundation</td>\n",
       "      <td>2019-11-01</td>\n",
       "      <td>2019.0</td>\n",
       "      <td>1.929822e+09</td>\n",
       "      <td>2019-09-06</td>\n",
       "      <td>20190904</td>\n",
       "      <td>2019-09-06</td>\n",
       "      <td>2019-09-06</td>\n",
       "      <td>USD</td>\n",
       "      <td>RV</td>\n",
       "      <td>1.0</td>\n",
       "      <td>17.44</td>\n",
       "      <td>20190906.0</td>\n",
       "      <td>NAX2</td>\n",
       "      <td>1.929822e+09</td>\n",
       "      <td>0</td>\n",
       "    </tr>\n",
       "    <tr>\n",
       "      <td>4</td>\n",
       "      <td>U001</td>\n",
       "      <td>0200780383</td>\n",
       "      <td>MEIJ</td>\n",
       "      <td>2019-11-06</td>\n",
       "      <td>2019.0</td>\n",
       "      <td>1.929995e+09</td>\n",
       "      <td>2019-10-09</td>\n",
       "      <td>20191009</td>\n",
       "      <td>2019-10-09</td>\n",
       "      <td>2019-10-24</td>\n",
       "      <td>USD</td>\n",
       "      <td>RV</td>\n",
       "      <td>1.0</td>\n",
       "      <td>414.71</td>\n",
       "      <td>20191009.0</td>\n",
       "      <td>NAA8</td>\n",
       "      <td>1.929995e+09</td>\n",
       "      <td>0</td>\n",
       "    </tr>\n",
       "    <tr>\n",
       "      <td>5</td>\n",
       "      <td>U001</td>\n",
       "      <td>0200769623</td>\n",
       "      <td>WAL-MAR</td>\n",
       "      <td>2019-05-21</td>\n",
       "      <td>2019.0</td>\n",
       "      <td>1.929287e+09</td>\n",
       "      <td>2019-05-10</td>\n",
       "      <td>20190509</td>\n",
       "      <td>2019-05-10</td>\n",
       "      <td>2019-05-25</td>\n",
       "      <td>USD</td>\n",
       "      <td>RV</td>\n",
       "      <td>1.0</td>\n",
       "      <td>5575.31</td>\n",
       "      <td>20190510.0</td>\n",
       "      <td>NAH4</td>\n",
       "      <td>1.929287e+09</td>\n",
       "      <td>0</td>\n",
       "    </tr>\n",
       "    <tr>\n",
       "      <td>...</td>\n",
       "      <td>...</td>\n",
       "      <td>...</td>\n",
       "      <td>...</td>\n",
       "      <td>...</td>\n",
       "      <td>...</td>\n",
       "      <td>...</td>\n",
       "      <td>...</td>\n",
       "      <td>...</td>\n",
       "      <td>...</td>\n",
       "      <td>...</td>\n",
       "      <td>...</td>\n",
       "      <td>...</td>\n",
       "      <td>...</td>\n",
       "      <td>...</td>\n",
       "      <td>...</td>\n",
       "      <td>...</td>\n",
       "      <td>...</td>\n",
       "      <td>...</td>\n",
       "    </tr>\n",
       "    <tr>\n",
       "      <td>49995</td>\n",
       "      <td>U001</td>\n",
       "      <td>0200769623</td>\n",
       "      <td>WAL-MAR</td>\n",
       "      <td>2019-11-12</td>\n",
       "      <td>2019.0</td>\n",
       "      <td>1.930089e+09</td>\n",
       "      <td>2019-11-02</td>\n",
       "      <td>20191101</td>\n",
       "      <td>2019-11-02</td>\n",
       "      <td>2019-11-17</td>\n",
       "      <td>USD</td>\n",
       "      <td>RV</td>\n",
       "      <td>1.0</td>\n",
       "      <td>27503.22</td>\n",
       "      <td>20191102.0</td>\n",
       "      <td>NAH4</td>\n",
       "      <td>1.930089e+09</td>\n",
       "      <td>0</td>\n",
       "    </tr>\n",
       "    <tr>\n",
       "      <td>49996</td>\n",
       "      <td>U001</td>\n",
       "      <td>0200936373</td>\n",
       "      <td>SUPE systems</td>\n",
       "      <td>2019-12-26</td>\n",
       "      <td>2019.0</td>\n",
       "      <td>1.930256e+09</td>\n",
       "      <td>2019-12-11</td>\n",
       "      <td>20191210</td>\n",
       "      <td>2019-12-11</td>\n",
       "      <td>2019-12-26</td>\n",
       "      <td>USD</td>\n",
       "      <td>RV</td>\n",
       "      <td>1.0</td>\n",
       "      <td>132726.26</td>\n",
       "      <td>20191211.0</td>\n",
       "      <td>NAA8</td>\n",
       "      <td>1.930256e+09</td>\n",
       "      <td>0</td>\n",
       "    </tr>\n",
       "    <tr>\n",
       "      <td>49997</td>\n",
       "      <td>U013</td>\n",
       "      <td>0100046614</td>\n",
       "      <td>PRO trust</td>\n",
       "      <td>2019-03-11</td>\n",
       "      <td>2019.0</td>\n",
       "      <td>1.991819e+09</td>\n",
       "      <td>2018-12-31</td>\n",
       "      <td>20181227</td>\n",
       "      <td>2018-12-31</td>\n",
       "      <td>2019-01-30</td>\n",
       "      <td>USD</td>\n",
       "      <td>RV</td>\n",
       "      <td>1.0</td>\n",
       "      <td>54600.00</td>\n",
       "      <td>20181231.0</td>\n",
       "      <td>NAVE</td>\n",
       "      <td>1.991819e+09</td>\n",
       "      <td>0</td>\n",
       "    </tr>\n",
       "    <tr>\n",
       "      <td>49998</td>\n",
       "      <td>U001</td>\n",
       "      <td>200756072</td>\n",
       "      <td>REINHA systems</td>\n",
       "      <td>2019-07-09</td>\n",
       "      <td>2019.0</td>\n",
       "      <td>1.929534e+09</td>\n",
       "      <td>2019-06-24</td>\n",
       "      <td>20190623</td>\n",
       "      <td>2019-06-24</td>\n",
       "      <td>2019-07-09</td>\n",
       "      <td>USD</td>\n",
       "      <td>RV</td>\n",
       "      <td>1.0</td>\n",
       "      <td>30251.83</td>\n",
       "      <td>20190624.0</td>\n",
       "      <td>NAA8</td>\n",
       "      <td>1.929534e+09</td>\n",
       "      <td>0</td>\n",
       "    </tr>\n",
       "    <tr>\n",
       "      <td>49999</td>\n",
       "      <td>U001</td>\n",
       "      <td>0200769623</td>\n",
       "      <td>WAL-MAR us</td>\n",
       "      <td>2019-10-23</td>\n",
       "      <td>2019.0</td>\n",
       "      <td>1.930009e+09</td>\n",
       "      <td>2019-10-13</td>\n",
       "      <td>20191013</td>\n",
       "      <td>2019-10-13</td>\n",
       "      <td>2019-10-28</td>\n",
       "      <td>USD</td>\n",
       "      <td>RV</td>\n",
       "      <td>1.0</td>\n",
       "      <td>12890.26</td>\n",
       "      <td>20191013.0</td>\n",
       "      <td>NAH4</td>\n",
       "      <td>1.930009e+09</td>\n",
       "      <td>0</td>\n",
       "    </tr>\n",
       "  </tbody>\n",
       "</table>\n",
       "<p>39116 rows × 18 columns</p>\n",
       "</div>"
      ],
      "text/plain": [
       "      business_code cust_number       name_customer clear_date  buisness_year  \\\n",
       "0              U001  0200769623         WAL-MAR llc 2019-06-05         2019.0   \n",
       "1              U001  0200779051           AFFILI us 2019-06-10         2019.0   \n",
       "2              U001      CCU013  KRAFT F foundation 2019-11-01         2019.0   \n",
       "4              U001  0200780383               MEIJ  2019-11-06         2019.0   \n",
       "5              U001  0200769623            WAL-MAR  2019-05-21         2019.0   \n",
       "...             ...         ...                 ...        ...            ...   \n",
       "49995          U001  0200769623            WAL-MAR  2019-11-12         2019.0   \n",
       "49996          U001  0200936373        SUPE systems 2019-12-26         2019.0   \n",
       "49997          U013  0100046614           PRO trust 2019-03-11         2019.0   \n",
       "49998          U001   200756072      REINHA systems 2019-07-09         2019.0   \n",
       "49999          U001  0200769623          WAL-MAR us 2019-10-23         2019.0   \n",
       "\n",
       "             doc_id posting_date  document_create_date document_create_date.1  \\\n",
       "0      1.929379e+09   2019-05-26              20190525             2019-05-26   \n",
       "1      1.929394e+09   2019-05-28              20190528             2019-05-28   \n",
       "2      1.929822e+09   2019-09-06              20190904             2019-09-06   \n",
       "4      1.929995e+09   2019-10-09              20191009             2019-10-09   \n",
       "5      1.929287e+09   2019-05-10              20190509             2019-05-10   \n",
       "...             ...          ...                   ...                    ...   \n",
       "49995  1.930089e+09   2019-11-02              20191101             2019-11-02   \n",
       "49996  1.930256e+09   2019-12-11              20191210             2019-12-11   \n",
       "49997  1.991819e+09   2018-12-31              20181227             2018-12-31   \n",
       "49998  1.929534e+09   2019-06-24              20190623             2019-06-24   \n",
       "49999  1.930009e+09   2019-10-13              20191013             2019-10-13   \n",
       "\n",
       "      due_in_date invoice_currency document type  posting_id  \\\n",
       "0      2019-06-10              USD            RV         1.0   \n",
       "1      2019-06-12              USD            RV         1.0   \n",
       "2      2019-09-06              USD            RV         1.0   \n",
       "4      2019-10-24              USD            RV         1.0   \n",
       "5      2019-05-25              USD            RV         1.0   \n",
       "...           ...              ...           ...         ...   \n",
       "49995  2019-11-17              USD            RV         1.0   \n",
       "49996  2019-12-26              USD            RV         1.0   \n",
       "49997  2019-01-30              USD            RV         1.0   \n",
       "49998  2019-07-09              USD            RV         1.0   \n",
       "49999  2019-10-28              USD            RV         1.0   \n",
       "\n",
       "       total_open_amount  baseline_create_date cust_payment_terms  \\\n",
       "0               32255.73            20190526.0               NAH4   \n",
       "1               95235.88            20190528.0               NAA8   \n",
       "2                  17.44            20190906.0               NAX2   \n",
       "4                 414.71            20191009.0               NAA8   \n",
       "5                5575.31            20190510.0               NAH4   \n",
       "...                  ...                   ...                ...   \n",
       "49995           27503.22            20191102.0               NAH4   \n",
       "49996          132726.26            20191211.0               NAA8   \n",
       "49997           54600.00            20181231.0               NAVE   \n",
       "49998           30251.83            20190624.0               NAA8   \n",
       "49999           12890.26            20191013.0               NAH4   \n",
       "\n",
       "         invoice_id  isOpen  \n",
       "0      1.929379e+09       0  \n",
       "1      1.929394e+09       0  \n",
       "2      1.929822e+09       0  \n",
       "4      1.929995e+09       0  \n",
       "5      1.929287e+09       0  \n",
       "...             ...     ...  \n",
       "49995  1.930089e+09       0  \n",
       "49996  1.930256e+09       0  \n",
       "49997  1.991819e+09       0  \n",
       "49998  1.929534e+09       0  \n",
       "49999  1.930009e+09       0  \n",
       "\n",
       "[39116 rows x 18 columns]"
      ]
     },
     "execution_count": 24,
     "metadata": {},
     "output_type": "execute_result"
    }
   ],
   "source": [
    "train_data"
   ]
  },
  {
   "cell_type": "code",
   "execution_count": 25,
   "metadata": {},
   "outputs": [
    {
     "name": "stdout",
     "output_type": "stream",
     "text": [
      "<class 'pandas.core.frame.DataFrame'>\n",
      "Int64Index: 39116 entries, 0 to 49999\n",
      "Data columns (total 18 columns):\n",
      "business_code             39116 non-null object\n",
      "cust_number               39116 non-null object\n",
      "name_customer             39116 non-null object\n",
      "clear_date                39116 non-null datetime64[ns]\n",
      "buisness_year             39116 non-null float64\n",
      "doc_id                    39116 non-null float64\n",
      "posting_date              39116 non-null datetime64[ns]\n",
      "document_create_date      39116 non-null int64\n",
      "document_create_date.1    39116 non-null datetime64[ns]\n",
      "due_in_date               39116 non-null datetime64[ns]\n",
      "invoice_currency          39116 non-null object\n",
      "document type             39116 non-null object\n",
      "posting_id                39116 non-null float64\n",
      "total_open_amount         39116 non-null float64\n",
      "baseline_create_date      39116 non-null float64\n",
      "cust_payment_terms        39116 non-null object\n",
      "invoice_id                39116 non-null float64\n",
      "isOpen                    39116 non-null int64\n",
      "dtypes: datetime64[ns](4), float64(6), int64(2), object(6)\n",
      "memory usage: 5.7+ MB\n"
     ]
    }
   ],
   "source": [
    "train_data.info()"
   ]
  },
  {
   "cell_type": "markdown",
   "metadata": {},
   "source": [
    "### Defining target variable( Our model will not understand date so we will find out delay)"
   ]
  },
  {
   "cell_type": "code",
   "execution_count": 26,
   "metadata": {},
   "outputs": [],
   "source": [
    "train_data['delay'] = train_data['clear_date']-train_data['due_in_date']"
   ]
  },
  {
   "cell_type": "code",
   "execution_count": 27,
   "metadata": {},
   "outputs": [
    {
     "data": {
      "text/html": [
       "<div>\n",
       "<style scoped>\n",
       "    .dataframe tbody tr th:only-of-type {\n",
       "        vertical-align: middle;\n",
       "    }\n",
       "\n",
       "    .dataframe tbody tr th {\n",
       "        vertical-align: top;\n",
       "    }\n",
       "\n",
       "    .dataframe thead th {\n",
       "        text-align: right;\n",
       "    }\n",
       "</style>\n",
       "<table border=\"1\" class=\"dataframe\">\n",
       "  <thead>\n",
       "    <tr style=\"text-align: right;\">\n",
       "      <th></th>\n",
       "      <th>business_code</th>\n",
       "      <th>cust_number</th>\n",
       "      <th>name_customer</th>\n",
       "      <th>clear_date</th>\n",
       "      <th>buisness_year</th>\n",
       "      <th>doc_id</th>\n",
       "      <th>posting_date</th>\n",
       "      <th>document_create_date</th>\n",
       "      <th>document_create_date.1</th>\n",
       "      <th>due_in_date</th>\n",
       "      <th>invoice_currency</th>\n",
       "      <th>document type</th>\n",
       "      <th>posting_id</th>\n",
       "      <th>total_open_amount</th>\n",
       "      <th>baseline_create_date</th>\n",
       "      <th>cust_payment_terms</th>\n",
       "      <th>invoice_id</th>\n",
       "      <th>isOpen</th>\n",
       "      <th>delay</th>\n",
       "    </tr>\n",
       "  </thead>\n",
       "  <tbody>\n",
       "    <tr>\n",
       "      <td>0</td>\n",
       "      <td>U001</td>\n",
       "      <td>0200769623</td>\n",
       "      <td>WAL-MAR llc</td>\n",
       "      <td>2019-06-05</td>\n",
       "      <td>2019.0</td>\n",
       "      <td>1.929379e+09</td>\n",
       "      <td>2019-05-26</td>\n",
       "      <td>20190525</td>\n",
       "      <td>2019-05-26</td>\n",
       "      <td>2019-06-10</td>\n",
       "      <td>USD</td>\n",
       "      <td>RV</td>\n",
       "      <td>1.0</td>\n",
       "      <td>32255.73</td>\n",
       "      <td>20190526.0</td>\n",
       "      <td>NAH4</td>\n",
       "      <td>1.929379e+09</td>\n",
       "      <td>0</td>\n",
       "      <td>-5 days</td>\n",
       "    </tr>\n",
       "    <tr>\n",
       "      <td>1</td>\n",
       "      <td>U001</td>\n",
       "      <td>0200779051</td>\n",
       "      <td>AFFILI us</td>\n",
       "      <td>2019-06-10</td>\n",
       "      <td>2019.0</td>\n",
       "      <td>1.929394e+09</td>\n",
       "      <td>2019-05-28</td>\n",
       "      <td>20190528</td>\n",
       "      <td>2019-05-28</td>\n",
       "      <td>2019-06-12</td>\n",
       "      <td>USD</td>\n",
       "      <td>RV</td>\n",
       "      <td>1.0</td>\n",
       "      <td>95235.88</td>\n",
       "      <td>20190528.0</td>\n",
       "      <td>NAA8</td>\n",
       "      <td>1.929394e+09</td>\n",
       "      <td>0</td>\n",
       "      <td>-2 days</td>\n",
       "    </tr>\n",
       "    <tr>\n",
       "      <td>2</td>\n",
       "      <td>U001</td>\n",
       "      <td>CCU013</td>\n",
       "      <td>KRAFT F foundation</td>\n",
       "      <td>2019-11-01</td>\n",
       "      <td>2019.0</td>\n",
       "      <td>1.929822e+09</td>\n",
       "      <td>2019-09-06</td>\n",
       "      <td>20190904</td>\n",
       "      <td>2019-09-06</td>\n",
       "      <td>2019-09-06</td>\n",
       "      <td>USD</td>\n",
       "      <td>RV</td>\n",
       "      <td>1.0</td>\n",
       "      <td>17.44</td>\n",
       "      <td>20190906.0</td>\n",
       "      <td>NAX2</td>\n",
       "      <td>1.929822e+09</td>\n",
       "      <td>0</td>\n",
       "      <td>56 days</td>\n",
       "    </tr>\n",
       "    <tr>\n",
       "      <td>4</td>\n",
       "      <td>U001</td>\n",
       "      <td>0200780383</td>\n",
       "      <td>MEIJ</td>\n",
       "      <td>2019-11-06</td>\n",
       "      <td>2019.0</td>\n",
       "      <td>1.929995e+09</td>\n",
       "      <td>2019-10-09</td>\n",
       "      <td>20191009</td>\n",
       "      <td>2019-10-09</td>\n",
       "      <td>2019-10-24</td>\n",
       "      <td>USD</td>\n",
       "      <td>RV</td>\n",
       "      <td>1.0</td>\n",
       "      <td>414.71</td>\n",
       "      <td>20191009.0</td>\n",
       "      <td>NAA8</td>\n",
       "      <td>1.929995e+09</td>\n",
       "      <td>0</td>\n",
       "      <td>13 days</td>\n",
       "    </tr>\n",
       "    <tr>\n",
       "      <td>5</td>\n",
       "      <td>U001</td>\n",
       "      <td>0200769623</td>\n",
       "      <td>WAL-MAR</td>\n",
       "      <td>2019-05-21</td>\n",
       "      <td>2019.0</td>\n",
       "      <td>1.929287e+09</td>\n",
       "      <td>2019-05-10</td>\n",
       "      <td>20190509</td>\n",
       "      <td>2019-05-10</td>\n",
       "      <td>2019-05-25</td>\n",
       "      <td>USD</td>\n",
       "      <td>RV</td>\n",
       "      <td>1.0</td>\n",
       "      <td>5575.31</td>\n",
       "      <td>20190510.0</td>\n",
       "      <td>NAH4</td>\n",
       "      <td>1.929287e+09</td>\n",
       "      <td>0</td>\n",
       "      <td>-4 days</td>\n",
       "    </tr>\n",
       "    <tr>\n",
       "      <td>...</td>\n",
       "      <td>...</td>\n",
       "      <td>...</td>\n",
       "      <td>...</td>\n",
       "      <td>...</td>\n",
       "      <td>...</td>\n",
       "      <td>...</td>\n",
       "      <td>...</td>\n",
       "      <td>...</td>\n",
       "      <td>...</td>\n",
       "      <td>...</td>\n",
       "      <td>...</td>\n",
       "      <td>...</td>\n",
       "      <td>...</td>\n",
       "      <td>...</td>\n",
       "      <td>...</td>\n",
       "      <td>...</td>\n",
       "      <td>...</td>\n",
       "      <td>...</td>\n",
       "      <td>...</td>\n",
       "    </tr>\n",
       "    <tr>\n",
       "      <td>49995</td>\n",
       "      <td>U001</td>\n",
       "      <td>0200769623</td>\n",
       "      <td>WAL-MAR</td>\n",
       "      <td>2019-11-12</td>\n",
       "      <td>2019.0</td>\n",
       "      <td>1.930089e+09</td>\n",
       "      <td>2019-11-02</td>\n",
       "      <td>20191101</td>\n",
       "      <td>2019-11-02</td>\n",
       "      <td>2019-11-17</td>\n",
       "      <td>USD</td>\n",
       "      <td>RV</td>\n",
       "      <td>1.0</td>\n",
       "      <td>27503.22</td>\n",
       "      <td>20191102.0</td>\n",
       "      <td>NAH4</td>\n",
       "      <td>1.930089e+09</td>\n",
       "      <td>0</td>\n",
       "      <td>-5 days</td>\n",
       "    </tr>\n",
       "    <tr>\n",
       "      <td>49996</td>\n",
       "      <td>U001</td>\n",
       "      <td>0200936373</td>\n",
       "      <td>SUPE systems</td>\n",
       "      <td>2019-12-26</td>\n",
       "      <td>2019.0</td>\n",
       "      <td>1.930256e+09</td>\n",
       "      <td>2019-12-11</td>\n",
       "      <td>20191210</td>\n",
       "      <td>2019-12-11</td>\n",
       "      <td>2019-12-26</td>\n",
       "      <td>USD</td>\n",
       "      <td>RV</td>\n",
       "      <td>1.0</td>\n",
       "      <td>132726.26</td>\n",
       "      <td>20191211.0</td>\n",
       "      <td>NAA8</td>\n",
       "      <td>1.930256e+09</td>\n",
       "      <td>0</td>\n",
       "      <td>0 days</td>\n",
       "    </tr>\n",
       "    <tr>\n",
       "      <td>49997</td>\n",
       "      <td>U013</td>\n",
       "      <td>0100046614</td>\n",
       "      <td>PRO trust</td>\n",
       "      <td>2019-03-11</td>\n",
       "      <td>2019.0</td>\n",
       "      <td>1.991819e+09</td>\n",
       "      <td>2018-12-31</td>\n",
       "      <td>20181227</td>\n",
       "      <td>2018-12-31</td>\n",
       "      <td>2019-01-30</td>\n",
       "      <td>USD</td>\n",
       "      <td>RV</td>\n",
       "      <td>1.0</td>\n",
       "      <td>54600.00</td>\n",
       "      <td>20181231.0</td>\n",
       "      <td>NAVE</td>\n",
       "      <td>1.991819e+09</td>\n",
       "      <td>0</td>\n",
       "      <td>40 days</td>\n",
       "    </tr>\n",
       "    <tr>\n",
       "      <td>49998</td>\n",
       "      <td>U001</td>\n",
       "      <td>200756072</td>\n",
       "      <td>REINHA systems</td>\n",
       "      <td>2019-07-09</td>\n",
       "      <td>2019.0</td>\n",
       "      <td>1.929534e+09</td>\n",
       "      <td>2019-06-24</td>\n",
       "      <td>20190623</td>\n",
       "      <td>2019-06-24</td>\n",
       "      <td>2019-07-09</td>\n",
       "      <td>USD</td>\n",
       "      <td>RV</td>\n",
       "      <td>1.0</td>\n",
       "      <td>30251.83</td>\n",
       "      <td>20190624.0</td>\n",
       "      <td>NAA8</td>\n",
       "      <td>1.929534e+09</td>\n",
       "      <td>0</td>\n",
       "      <td>0 days</td>\n",
       "    </tr>\n",
       "    <tr>\n",
       "      <td>49999</td>\n",
       "      <td>U001</td>\n",
       "      <td>0200769623</td>\n",
       "      <td>WAL-MAR us</td>\n",
       "      <td>2019-10-23</td>\n",
       "      <td>2019.0</td>\n",
       "      <td>1.930009e+09</td>\n",
       "      <td>2019-10-13</td>\n",
       "      <td>20191013</td>\n",
       "      <td>2019-10-13</td>\n",
       "      <td>2019-10-28</td>\n",
       "      <td>USD</td>\n",
       "      <td>RV</td>\n",
       "      <td>1.0</td>\n",
       "      <td>12890.26</td>\n",
       "      <td>20191013.0</td>\n",
       "      <td>NAH4</td>\n",
       "      <td>1.930009e+09</td>\n",
       "      <td>0</td>\n",
       "      <td>-5 days</td>\n",
       "    </tr>\n",
       "  </tbody>\n",
       "</table>\n",
       "<p>39116 rows × 19 columns</p>\n",
       "</div>"
      ],
      "text/plain": [
       "      business_code cust_number       name_customer clear_date  buisness_year  \\\n",
       "0              U001  0200769623         WAL-MAR llc 2019-06-05         2019.0   \n",
       "1              U001  0200779051           AFFILI us 2019-06-10         2019.0   \n",
       "2              U001      CCU013  KRAFT F foundation 2019-11-01         2019.0   \n",
       "4              U001  0200780383               MEIJ  2019-11-06         2019.0   \n",
       "5              U001  0200769623            WAL-MAR  2019-05-21         2019.0   \n",
       "...             ...         ...                 ...        ...            ...   \n",
       "49995          U001  0200769623            WAL-MAR  2019-11-12         2019.0   \n",
       "49996          U001  0200936373        SUPE systems 2019-12-26         2019.0   \n",
       "49997          U013  0100046614           PRO trust 2019-03-11         2019.0   \n",
       "49998          U001   200756072      REINHA systems 2019-07-09         2019.0   \n",
       "49999          U001  0200769623          WAL-MAR us 2019-10-23         2019.0   \n",
       "\n",
       "             doc_id posting_date  document_create_date document_create_date.1  \\\n",
       "0      1.929379e+09   2019-05-26              20190525             2019-05-26   \n",
       "1      1.929394e+09   2019-05-28              20190528             2019-05-28   \n",
       "2      1.929822e+09   2019-09-06              20190904             2019-09-06   \n",
       "4      1.929995e+09   2019-10-09              20191009             2019-10-09   \n",
       "5      1.929287e+09   2019-05-10              20190509             2019-05-10   \n",
       "...             ...          ...                   ...                    ...   \n",
       "49995  1.930089e+09   2019-11-02              20191101             2019-11-02   \n",
       "49996  1.930256e+09   2019-12-11              20191210             2019-12-11   \n",
       "49997  1.991819e+09   2018-12-31              20181227             2018-12-31   \n",
       "49998  1.929534e+09   2019-06-24              20190623             2019-06-24   \n",
       "49999  1.930009e+09   2019-10-13              20191013             2019-10-13   \n",
       "\n",
       "      due_in_date invoice_currency document type  posting_id  \\\n",
       "0      2019-06-10              USD            RV         1.0   \n",
       "1      2019-06-12              USD            RV         1.0   \n",
       "2      2019-09-06              USD            RV         1.0   \n",
       "4      2019-10-24              USD            RV         1.0   \n",
       "5      2019-05-25              USD            RV         1.0   \n",
       "...           ...              ...           ...         ...   \n",
       "49995  2019-11-17              USD            RV         1.0   \n",
       "49996  2019-12-26              USD            RV         1.0   \n",
       "49997  2019-01-30              USD            RV         1.0   \n",
       "49998  2019-07-09              USD            RV         1.0   \n",
       "49999  2019-10-28              USD            RV         1.0   \n",
       "\n",
       "       total_open_amount  baseline_create_date cust_payment_terms  \\\n",
       "0               32255.73            20190526.0               NAH4   \n",
       "1               95235.88            20190528.0               NAA8   \n",
       "2                  17.44            20190906.0               NAX2   \n",
       "4                 414.71            20191009.0               NAA8   \n",
       "5                5575.31            20190510.0               NAH4   \n",
       "...                  ...                   ...                ...   \n",
       "49995           27503.22            20191102.0               NAH4   \n",
       "49996          132726.26            20191211.0               NAA8   \n",
       "49997           54600.00            20181231.0               NAVE   \n",
       "49998           30251.83            20190624.0               NAA8   \n",
       "49999           12890.26            20191013.0               NAH4   \n",
       "\n",
       "         invoice_id  isOpen   delay  \n",
       "0      1.929379e+09       0 -5 days  \n",
       "1      1.929394e+09       0 -2 days  \n",
       "2      1.929822e+09       0 56 days  \n",
       "4      1.929995e+09       0 13 days  \n",
       "5      1.929287e+09       0 -4 days  \n",
       "...             ...     ...     ...  \n",
       "49995  1.930089e+09       0 -5 days  \n",
       "49996  1.930256e+09       0  0 days  \n",
       "49997  1.991819e+09       0 40 days  \n",
       "49998  1.929534e+09       0  0 days  \n",
       "49999  1.930009e+09       0 -5 days  \n",
       "\n",
       "[39116 rows x 19 columns]"
      ]
     },
     "execution_count": 27,
     "metadata": {},
     "output_type": "execute_result"
    }
   ],
   "source": [
    "train_data"
   ]
  },
  {
   "cell_type": "code",
   "execution_count": 28,
   "metadata": {},
   "outputs": [],
   "source": [
    "#converting it in int\n",
    "train_data['delay'] = train_data['delay'].dt.days"
   ]
  },
  {
   "cell_type": "code",
   "execution_count": 29,
   "metadata": {},
   "outputs": [
    {
     "data": {
      "text/plain": [
       "(39116, 19)"
      ]
     },
     "execution_count": 29,
     "metadata": {},
     "output_type": "execute_result"
    }
   ],
   "source": [
    "train_data.shape"
   ]
  },
  {
   "cell_type": "code",
   "execution_count": 30,
   "metadata": {},
   "outputs": [],
   "source": [
    "train_data.sort_values(by = 'posting_date', inplace = True)"
   ]
  },
  {
   "cell_type": "markdown",
   "metadata": {},
   "source": [
    "## Splitiing data using sklearn test train split"
   ]
  },
  {
   "cell_type": "code",
   "execution_count": 31,
   "metadata": {},
   "outputs": [],
   "source": [
    "#we have delay as target so we will remove from x i.e feature part \n",
    "y = train_data['delay']\n",
    "x = train_data.drop('delay', axis = 1)"
   ]
  },
  {
   "cell_type": "code",
   "execution_count": 32,
   "metadata": {},
   "outputs": [],
   "source": [
    "#spliting data in two part 75:25 using test_train_split in sklearn\n",
    "from sklearn.model_selection import train_test_split\n",
    "x_train,x_inter_test,y_train,y_inter_test = train_test_split(x,y,test_size=0.25,random_state=0 , shuffle = False)"
   ]
  },
  {
   "cell_type": "code",
   "execution_count": 33,
   "metadata": {},
   "outputs": [],
   "source": [
    "#Now split the test part in validation and test\n",
    "x_val,x_test,y_val,y_test = train_test_split(x_inter_test,y_inter_test,test_size=0.5,random_state=0 , shuffle = False)"
   ]
  },
  {
   "cell_type": "code",
   "execution_count": 34,
   "metadata": {},
   "outputs": [
    {
     "data": {
      "text/plain": [
       "((29337, 18), (4889, 18), (4890, 18))"
      ]
     },
     "execution_count": 34,
     "metadata": {},
     "output_type": "execute_result"
    }
   ],
   "source": [
    "#now we will check the size of different part\n",
    "x_train.shape , x_val.shape , x_test.shape"
   ]
  },
  {
   "cell_type": "markdown",
   "metadata": {},
   "source": [
    "# EDA"
   ]
  },
  {
   "cell_type": "markdown",
   "metadata": {},
   "source": [
    "### Now we will be performing eda\n",
    "### Library used for visualisation-  matplotlib and seaborn"
   ]
  },
  {
   "cell_type": "code",
   "execution_count": 35,
   "metadata": {},
   "outputs": [
    {
     "data": {
      "text/plain": [
       "<matplotlib.axes._subplots.AxesSubplot at 0x2a552985448>"
      ]
     },
     "execution_count": 35,
     "metadata": {},
     "output_type": "execute_result"
    },
    {
     "data": {
      "image/png": "[encoded data removed]",
      "text/plain": [
       "<Figure size 432x288 with 1 Axes>"
      ]
     },
     "metadata": {
      "needs_background": "light"
     },
     "output_type": "display_data"
    }
   ],
   "source": [
    "sns.distplot(y_train)"
   ]
  },
  {
   "cell_type": "markdown",
   "metadata": {},
   "source": [
    "### Distribution of target column\n",
    "#### Outliers are present but not significant\n",
    "#### Positive skewwed graph"
   ]
  },
  {
   "cell_type": "markdown",
   "metadata": {},
   "source": [
    "### Univariate analysis"
   ]
  },
  {
   "cell_type": "code",
   "execution_count": 36,
   "metadata": {},
   "outputs": [
    {
     "data": {
      "text/plain": [
       "business_code                 5\n",
       "cust_number                1246\n",
       "name_customer              3455\n",
       "clear_date                  286\n",
       "buisness_year                 1\n",
       "doc_id                    29337\n",
       "posting_date                305\n",
       "document_create_date        311\n",
       "document_create_date.1      305\n",
       "due_in_date                 357\n",
       "invoice_currency              2\n",
       "document type                 1\n",
       "posting_id                    1\n",
       "total_open_amount         26844\n",
       "baseline_create_date        315\n",
       "cust_payment_terms           67\n",
       "invoice_id                29337\n",
       "isOpen                        1\n",
       "dtype: int64"
      ]
     },
     "execution_count": 36,
     "metadata": {},
     "output_type": "execute_result"
    }
   ],
   "source": [
    "x_train.nunique()"
   ]
  },
  {
   "cell_type": "code",
   "execution_count": 37,
   "metadata": {},
   "outputs": [
    {
     "data": {
      "text/plain": [
       "USD    27074\n",
       "CAD     2263\n",
       "Name: invoice_currency, dtype: int64"
      ]
     },
     "execution_count": 37,
     "metadata": {},
     "output_type": "execute_result"
    }
   ],
   "source": [
    "x_train.invoice_currency.value_counts()"
   ]
  },
  {
   "cell_type": "code",
   "execution_count": 38,
   "metadata": {},
   "outputs": [],
   "source": [
    "clear_month = train_data.clear_date.dt.month"
   ]
  },
  {
   "cell_type": "code",
   "execution_count": 39,
   "metadata": {},
   "outputs": [
    {
     "data": {
      "text/plain": [
       "<matplotlib.axes._subplots.AxesSubplot at 0x2a553003c48>"
      ]
     },
     "execution_count": 39,
     "metadata": {},
     "output_type": "execute_result"
    },
    {
     "data": {
      "image/png": "[encoded data removed]",
      "text/plain": [
       "<Figure size 432x288 with 1 Axes>"
      ]
     },
     "metadata": {
      "needs_background": "light"
     },
     "output_type": "display_data"
    }
   ],
   "source": [
    "sns.countplot(x=clear_month)"
   ]
  },
  {
   "cell_type": "markdown",
   "metadata": {},
   "source": [
    "###### February is the month where companies completed most transaction"
   ]
  },
  {
   "cell_type": "code",
   "execution_count": 40,
   "metadata": {},
   "outputs": [],
   "source": [
    "temp = x_train.merge(y_train,on = x_train.index)"
   ]
  },
  {
   "cell_type": "code",
   "execution_count": 41,
   "metadata": {},
   "outputs": [],
   "source": [
    "temp.loc[temp['delay']<0,'DaysLate_Code'] = 'Early'\n",
    "temp.loc[temp['delay']==0,'DaysLate_Code'] = 'On time'\n",
    "temp.loc[temp['delay']>0,'DaysLate_Code'] = 'Late'"
   ]
  },
  {
   "cell_type": "code",
   "execution_count": 42,
   "metadata": {},
   "outputs": [
    {
     "data": {
      "text/plain": [
       "<matplotlib.axes._subplots.AxesSubplot at 0x2a555a08ac8>"
      ]
     },
     "execution_count": 42,
     "metadata": {},
     "output_type": "execute_result"
    },
    {
     "data": {
      "image/png": "[encoded data removed]",
      "text/plain": [
       "<Figure size 432x288 with 1 Axes>"
      ]
     },
     "metadata": {
      "needs_background": "light"
     },
     "output_type": "display_data"
    }
   ],
   "source": [
    "sns.countplot(x = temp['DaysLate_Code'])"
   ]
  },
  {
   "cell_type": "markdown",
   "metadata": {},
   "source": [
    "###### we clearly see that late payement and early paymment are more than on time payment"
   ]
  },
  {
   "cell_type": "code",
   "execution_count": 43,
   "metadata": {
    "scrolled": true
   },
   "outputs": [
    {
     "data": {
      "text/plain": [
       "business_code                 5\n",
       "cust_number                1246\n",
       "name_customer              3455\n",
       "clear_date                  286\n",
       "buisness_year                 1\n",
       "doc_id                    29337\n",
       "posting_date                305\n",
       "document_create_date        311\n",
       "document_create_date.1      305\n",
       "due_in_date                 357\n",
       "invoice_currency              2\n",
       "document type                 1\n",
       "posting_id                    1\n",
       "total_open_amount         26844\n",
       "baseline_create_date        315\n",
       "cust_payment_terms           67\n",
       "invoice_id                29337\n",
       "isOpen                        1\n",
       "dtype: int64"
      ]
     },
     "execution_count": 43,
     "metadata": {},
     "output_type": "execute_result"
    }
   ],
   "source": [
    "x_train.nunique()"
   ]
  },
  {
   "cell_type": "markdown",
   "metadata": {},
   "source": [
    "## Multivariate analysis"
   ]
  },
  {
   "cell_type": "code",
   "execution_count": 44,
   "metadata": {},
   "outputs": [
    {
     "data": {
      "text/plain": [
       "<seaborn.axisgrid.PairGrid at 0x2a553279c48>"
      ]
     },
     "execution_count": 44,
     "metadata": {},
     "output_type": "execute_result"
    },
    {
     "data": {
      "image/png": "[encoded data removed]",
      "text/plain": [
       "<Figure size 1440x1440 with 72 Axes>"
      ]
     },
     "metadata": {
      "needs_background": "light"
     },
     "output_type": "display_data"
    }
   ],
   "source": [
    "sns.pairplot(x_train)"
   ]
  },
  {
   "cell_type": "markdown",
   "metadata": {},
   "source": [
    "#### Here we se that business_year posting_id and isopen has only one value so we will drop it later"
   ]
  },
  {
   "cell_type": "markdown",
   "metadata": {},
   "source": [
    "### Bivariate analysis"
   ]
  },
  {
   "cell_type": "code",
   "execution_count": 45,
   "metadata": {},
   "outputs": [
    {
     "data": {
      "text/plain": [
       "<matplotlib.axes._subplots.AxesSubplot at 0x2a555c9c608>"
      ]
     },
     "execution_count": 45,
     "metadata": {},
     "output_type": "execute_result"
    },
    {
     "data": {
      "image/png": "[encoded data removed]",
      "text/plain": [
       "<Figure size 432x288 with 1 Axes>"
      ]
     },
     "metadata": {
      "needs_background": "light"
     },
     "output_type": "display_data"
    }
   ],
   "source": [
    "sns.scatterplot(y_train,x_train['total_open_amount'])"
   ]
  },
  {
   "cell_type": "code",
   "execution_count": 46,
   "metadata": {},
   "outputs": [],
   "source": [
    "### There are some outliers but can be neglected"
   ]
  },
  {
   "cell_type": "code",
   "execution_count": 47,
   "metadata": {},
   "outputs": [
    {
     "data": {
      "text/plain": [
       "<seaborn.axisgrid.FacetGrid at 0x2a555cd9748>"
      ]
     },
     "execution_count": 47,
     "metadata": {},
     "output_type": "execute_result"
    },
    {
     "data": {
      "image/png": "[encoded data removed]",
      "text/plain": [
       "<Figure size 360x360 with 1 Axes>"
      ]
     },
     "metadata": {
      "needs_background": "light"
     },
     "output_type": "display_data"
    }
   ],
   "source": [
    "sns.catplot(data=x_train.merge(y_train,on = x_train.index), x=\"business_code\", y=\"delay\")"
   ]
  },
  {
   "cell_type": "code",
   "execution_count": null,
   "metadata": {},
   "outputs": [],
   "source": []
  },
  {
   "cell_type": "markdown",
   "metadata": {},
   "source": [
    "###### We see that before time payment varies in all buisness code so we can use as feature"
   ]
  },
  {
   "cell_type": "markdown",
   "metadata": {},
   "source": [
    "## Feature Engineering"
   ]
  },
  {
   "cell_type": "code",
   "execution_count": 48,
   "metadata": {},
   "outputs": [],
   "source": [
    "#We will remove the column that are not necessary for model\n",
    "# reomve from train as well as validation and test set also"
   ]
  },
  {
   "cell_type": "code",
   "execution_count": 49,
   "metadata": {},
   "outputs": [],
   "source": [
    "x_train.drop(columns=['buisness_year', 'document type', 'posting_id', 'isOpen','document_create_date'], inplace=True)"
   ]
  },
  {
   "cell_type": "code",
   "execution_count": 50,
   "metadata": {},
   "outputs": [],
   "source": [
    "x_val.drop(columns=['buisness_year', 'document type', 'posting_id', 'isOpen','document_create_date'], inplace=True)\n",
    "x_test.drop(columns=['buisness_year', 'document type', 'posting_id', 'isOpen','document_create_date'], inplace=True)"
   ]
  },
  {
   "cell_type": "code",
   "execution_count": 51,
   "metadata": {},
   "outputs": [],
   "source": [
    "#Now we will do labelencoding for some feature\n",
    "from sklearn.preprocessing import LabelEncoder\n",
    "encoder = LabelEncoder()\n",
    "encoder.fit(x_train['business_code'])\n",
    "x_train['business_enc'] = encoder.transform(x_train['business_code'])"
   ]
  },
  {
   "cell_type": "code",
   "execution_count": 52,
   "metadata": {},
   "outputs": [
    {
     "data": {
      "text/html": [
       "<div>\n",
       "<style scoped>\n",
       "    .dataframe tbody tr th:only-of-type {\n",
       "        vertical-align: middle;\n",
       "    }\n",
       "\n",
       "    .dataframe tbody tr th {\n",
       "        vertical-align: top;\n",
       "    }\n",
       "\n",
       "    .dataframe thead th {\n",
       "        text-align: right;\n",
       "    }\n",
       "</style>\n",
       "<table border=\"1\" class=\"dataframe\">\n",
       "  <thead>\n",
       "    <tr style=\"text-align: right;\">\n",
       "      <th></th>\n",
       "      <th>business_code</th>\n",
       "      <th>cust_number</th>\n",
       "      <th>name_customer</th>\n",
       "      <th>clear_date</th>\n",
       "      <th>doc_id</th>\n",
       "      <th>posting_date</th>\n",
       "      <th>document_create_date.1</th>\n",
       "      <th>due_in_date</th>\n",
       "      <th>invoice_currency</th>\n",
       "      <th>total_open_amount</th>\n",
       "      <th>baseline_create_date</th>\n",
       "      <th>cust_payment_terms</th>\n",
       "      <th>invoice_id</th>\n",
       "      <th>business_enc</th>\n",
       "    </tr>\n",
       "  </thead>\n",
       "  <tbody>\n",
       "    <tr>\n",
       "      <td>17783</td>\n",
       "      <td>U001</td>\n",
       "      <td>0200769623</td>\n",
       "      <td>WAL-MAR associates</td>\n",
       "      <td>2019-01-09</td>\n",
       "      <td>1.928539e+09</td>\n",
       "      <td>2018-12-30</td>\n",
       "      <td>2018-12-30</td>\n",
       "      <td>2019-01-14</td>\n",
       "      <td>USD</td>\n",
       "      <td>10281.44</td>\n",
       "      <td>20181230.0</td>\n",
       "      <td>NAH4</td>\n",
       "      <td>1.928539e+09</td>\n",
       "      <td>1</td>\n",
       "    </tr>\n",
       "    <tr>\n",
       "      <td>16307</td>\n",
       "      <td>U001</td>\n",
       "      <td>0200769623</td>\n",
       "      <td>WAL-MAR corp</td>\n",
       "      <td>2019-01-15</td>\n",
       "      <td>1.928540e+09</td>\n",
       "      <td>2018-12-30</td>\n",
       "      <td>2018-12-30</td>\n",
       "      <td>2019-01-14</td>\n",
       "      <td>USD</td>\n",
       "      <td>18703.02</td>\n",
       "      <td>20181230.0</td>\n",
       "      <td>NAH4</td>\n",
       "      <td>1.928540e+09</td>\n",
       "      <td>1</td>\n",
       "    </tr>\n",
       "    <tr>\n",
       "      <td>48752</td>\n",
       "      <td>U001</td>\n",
       "      <td>0200418007</td>\n",
       "      <td>AM trust</td>\n",
       "      <td>2019-01-15</td>\n",
       "      <td>1.928529e+09</td>\n",
       "      <td>2018-12-30</td>\n",
       "      <td>2018-12-30</td>\n",
       "      <td>2019-01-14</td>\n",
       "      <td>USD</td>\n",
       "      <td>49711.27</td>\n",
       "      <td>20181230.0</td>\n",
       "      <td>NAA8</td>\n",
       "      <td>1.928529e+09</td>\n",
       "      <td>1</td>\n",
       "    </tr>\n",
       "    <tr>\n",
       "      <td>23751</td>\n",
       "      <td>U002</td>\n",
       "      <td>0200816950</td>\n",
       "      <td>COLOM trust</td>\n",
       "      <td>2019-01-30</td>\n",
       "      <td>1.990563e+09</td>\n",
       "      <td>2018-12-30</td>\n",
       "      <td>2018-12-30</td>\n",
       "      <td>2019-01-29</td>\n",
       "      <td>USD</td>\n",
       "      <td>64473.79</td>\n",
       "      <td>20181230.0</td>\n",
       "      <td>NA38</td>\n",
       "      <td>1.990563e+09</td>\n",
       "      <td>2</td>\n",
       "    </tr>\n",
       "    <tr>\n",
       "      <td>1116</td>\n",
       "      <td>U001</td>\n",
       "      <td>CCU013</td>\n",
       "      <td>KRAFT F corporation</td>\n",
       "      <td>2019-03-01</td>\n",
       "      <td>1.928517e+09</td>\n",
       "      <td>2018-12-30</td>\n",
       "      <td>2018-12-30</td>\n",
       "      <td>2018-12-30</td>\n",
       "      <td>USD</td>\n",
       "      <td>607.07</td>\n",
       "      <td>20181230.0</td>\n",
       "      <td>NAX2</td>\n",
       "      <td>1.928517e+09</td>\n",
       "      <td>1</td>\n",
       "    </tr>\n",
       "    <tr>\n",
       "      <td>...</td>\n",
       "      <td>...</td>\n",
       "      <td>...</td>\n",
       "      <td>...</td>\n",
       "      <td>...</td>\n",
       "      <td>...</td>\n",
       "      <td>...</td>\n",
       "      <td>...</td>\n",
       "      <td>...</td>\n",
       "      <td>...</td>\n",
       "      <td>...</td>\n",
       "      <td>...</td>\n",
       "      <td>...</td>\n",
       "      <td>...</td>\n",
       "      <td>...</td>\n",
       "    </tr>\n",
       "    <tr>\n",
       "      <td>36748</td>\n",
       "      <td>U001</td>\n",
       "      <td>0200847305</td>\n",
       "      <td>CUSTOM co</td>\n",
       "      <td>2019-11-13</td>\n",
       "      <td>1.930057e+09</td>\n",
       "      <td>2019-10-30</td>\n",
       "      <td>2019-10-30</td>\n",
       "      <td>2019-11-09</td>\n",
       "      <td>USD</td>\n",
       "      <td>54211.50</td>\n",
       "      <td>20191030.0</td>\n",
       "      <td>NA10</td>\n",
       "      <td>1.930057e+09</td>\n",
       "      <td>1</td>\n",
       "    </tr>\n",
       "    <tr>\n",
       "      <td>16632</td>\n",
       "      <td>U001</td>\n",
       "      <td>0200769623</td>\n",
       "      <td>WAL-MAR trust</td>\n",
       "      <td>2019-11-12</td>\n",
       "      <td>1.930072e+09</td>\n",
       "      <td>2019-10-30</td>\n",
       "      <td>2019-10-30</td>\n",
       "      <td>2019-11-14</td>\n",
       "      <td>USD</td>\n",
       "      <td>1084.22</td>\n",
       "      <td>20191030.0</td>\n",
       "      <td>NAH4</td>\n",
       "      <td>1.930072e+09</td>\n",
       "      <td>1</td>\n",
       "    </tr>\n",
       "    <tr>\n",
       "      <td>32758</td>\n",
       "      <td>U001</td>\n",
       "      <td>0200781803</td>\n",
       "      <td>JRD in</td>\n",
       "      <td>2019-11-19</td>\n",
       "      <td>1.930073e+09</td>\n",
       "      <td>2019-10-30</td>\n",
       "      <td>2019-10-30</td>\n",
       "      <td>2019-11-19</td>\n",
       "      <td>USD</td>\n",
       "      <td>137.24</td>\n",
       "      <td>20191030.0</td>\n",
       "      <td>NAD1</td>\n",
       "      <td>1.930073e+09</td>\n",
       "      <td>1</td>\n",
       "    </tr>\n",
       "    <tr>\n",
       "      <td>17301</td>\n",
       "      <td>U001</td>\n",
       "      <td>0200780383</td>\n",
       "      <td>MEIJ corporation</td>\n",
       "      <td>2019-11-15</td>\n",
       "      <td>1.930067e+09</td>\n",
       "      <td>2019-10-30</td>\n",
       "      <td>2019-10-30</td>\n",
       "      <td>2019-11-14</td>\n",
       "      <td>USD</td>\n",
       "      <td>1373.96</td>\n",
       "      <td>20191030.0</td>\n",
       "      <td>NAA8</td>\n",
       "      <td>1.930067e+09</td>\n",
       "      <td>1</td>\n",
       "    </tr>\n",
       "    <tr>\n",
       "      <td>36000</td>\n",
       "      <td>U001</td>\n",
       "      <td>0200759878</td>\n",
       "      <td>SA corporation</td>\n",
       "      <td>2019-11-15</td>\n",
       "      <td>1.930068e+09</td>\n",
       "      <td>2019-10-30</td>\n",
       "      <td>2019-10-30</td>\n",
       "      <td>2019-11-14</td>\n",
       "      <td>USD</td>\n",
       "      <td>14991.58</td>\n",
       "      <td>20191030.0</td>\n",
       "      <td>NAH4</td>\n",
       "      <td>1.930068e+09</td>\n",
       "      <td>1</td>\n",
       "    </tr>\n",
       "  </tbody>\n",
       "</table>\n",
       "<p>29337 rows × 14 columns</p>\n",
       "</div>"
      ],
      "text/plain": [
       "      business_code cust_number        name_customer clear_date        doc_id  \\\n",
       "17783          U001  0200769623   WAL-MAR associates 2019-01-09  1.928539e+09   \n",
       "16307          U001  0200769623         WAL-MAR corp 2019-01-15  1.928540e+09   \n",
       "48752          U001  0200418007             AM trust 2019-01-15  1.928529e+09   \n",
       "23751          U002  0200816950          COLOM trust 2019-01-30  1.990563e+09   \n",
       "1116           U001      CCU013  KRAFT F corporation 2019-03-01  1.928517e+09   \n",
       "...             ...         ...                  ...        ...           ...   \n",
       "36748          U001  0200847305            CUSTOM co 2019-11-13  1.930057e+09   \n",
       "16632          U001  0200769623        WAL-MAR trust 2019-11-12  1.930072e+09   \n",
       "32758          U001  0200781803               JRD in 2019-11-19  1.930073e+09   \n",
       "17301          U001  0200780383     MEIJ corporation 2019-11-15  1.930067e+09   \n",
       "36000          U001  0200759878       SA corporation 2019-11-15  1.930068e+09   \n",
       "\n",
       "      posting_date document_create_date.1 due_in_date invoice_currency  \\\n",
       "17783   2018-12-30             2018-12-30  2019-01-14              USD   \n",
       "16307   2018-12-30             2018-12-30  2019-01-14              USD   \n",
       "48752   2018-12-30             2018-12-30  2019-01-14              USD   \n",
       "23751   2018-12-30             2018-12-30  2019-01-29              USD   \n",
       "1116    2018-12-30             2018-12-30  2018-12-30              USD   \n",
       "...            ...                    ...         ...              ...   \n",
       "36748   2019-10-30             2019-10-30  2019-11-09              USD   \n",
       "16632   2019-10-30             2019-10-30  2019-11-14              USD   \n",
       "32758   2019-10-30             2019-10-30  2019-11-19              USD   \n",
       "17301   2019-10-30             2019-10-30  2019-11-14              USD   \n",
       "36000   2019-10-30             2019-10-30  2019-11-14              USD   \n",
       "\n",
       "       total_open_amount  baseline_create_date cust_payment_terms  \\\n",
       "17783           10281.44            20181230.0               NAH4   \n",
       "16307           18703.02            20181230.0               NAH4   \n",
       "48752           49711.27            20181230.0               NAA8   \n",
       "23751           64473.79            20181230.0               NA38   \n",
       "1116              607.07            20181230.0               NAX2   \n",
       "...                  ...                   ...                ...   \n",
       "36748           54211.50            20191030.0               NA10   \n",
       "16632            1084.22            20191030.0               NAH4   \n",
       "32758             137.24            20191030.0               NAD1   \n",
       "17301            1373.96            20191030.0               NAA8   \n",
       "36000           14991.58            20191030.0               NAH4   \n",
       "\n",
       "         invoice_id  business_enc  \n",
       "17783  1.928539e+09             1  \n",
       "16307  1.928540e+09             1  \n",
       "48752  1.928529e+09             1  \n",
       "23751  1.990563e+09             2  \n",
       "1116   1.928517e+09             1  \n",
       "...             ...           ...  \n",
       "36748  1.930057e+09             1  \n",
       "16632  1.930072e+09             1  \n",
       "32758  1.930073e+09             1  \n",
       "17301  1.930067e+09             1  \n",
       "36000  1.930068e+09             1  \n",
       "\n",
       "[29337 rows x 14 columns]"
      ]
     },
     "execution_count": 52,
     "metadata": {},
     "output_type": "execute_result"
    }
   ],
   "source": [
    "x_train"
   ]
  },
  {
   "cell_type": "code",
   "execution_count": 53,
   "metadata": {},
   "outputs": [],
   "source": [
    "#Performing above encoding on validation and testset\n",
    "x_val['business_enc'] = encoder.transform(x_val['business_code'])\n",
    "x_test['business_enc'] = encoder.transform(x_test['business_code'])"
   ]
  },
  {
   "cell_type": "code",
   "execution_count": 54,
   "metadata": {},
   "outputs": [],
   "source": [
    "#Now dropping feature that are unnecessary\n",
    "x_train.drop('business_code',axis=1,inplace=True)\n",
    "x_val.drop('business_code',axis=1,inplace=True)\n",
    "x_test.drop('business_code',axis=1,inplace=True)"
   ]
  },
  {
   "cell_type": "code",
   "execution_count": 55,
   "metadata": {},
   "outputs": [],
   "source": [
    "#Extraxting number from customer number\n",
    "x_train['customer_num']= x_train['cust_number'].str.extract('(\\d+)')"
   ]
  },
  {
   "cell_type": "code",
   "execution_count": 56,
   "metadata": {},
   "outputs": [],
   "source": [
    "x_test['customer_num']= x_test['cust_number'].str.extract('(\\d+)')\n",
    "x_val['customer_num']= x_val['cust_number'].str.extract('(\\d+)')"
   ]
  },
  {
   "cell_type": "code",
   "execution_count": 57,
   "metadata": {},
   "outputs": [],
   "source": [
    "#deleting customer nuber column We can also drop name of customer\n",
    "x_train.drop(columns=['cust_number','name_customer'],axis=1,inplace=True)\n",
    "x_val.drop(columns=['cust_number','name_customer'],axis=1,inplace=True)\n",
    "x_test.drop(columns=['cust_number','name_customer'],axis=1,inplace=True)"
   ]
  },
  {
   "cell_type": "code",
   "execution_count": 58,
   "metadata": {},
   "outputs": [
    {
     "name": "stdout",
     "output_type": "stream",
     "text": [
      "<class 'pandas.core.frame.DataFrame'>\n",
      "Int64Index: 4890 entries, 37143 to 30288\n",
      "Data columns (total 12 columns):\n",
      "clear_date                4890 non-null datetime64[ns]\n",
      "doc_id                    4890 non-null float64\n",
      "posting_date              4890 non-null datetime64[ns]\n",
      "document_create_date.1    4890 non-null datetime64[ns]\n",
      "due_in_date               4890 non-null datetime64[ns]\n",
      "invoice_currency          4890 non-null object\n",
      "total_open_amount         4890 non-null float64\n",
      "baseline_create_date      4890 non-null float64\n",
      "cust_payment_terms        4890 non-null object\n",
      "invoice_id                4890 non-null float64\n",
      "business_enc              4890 non-null int32\n",
      "customer_num              4890 non-null object\n",
      "dtypes: datetime64[ns](4), float64(4), int32(1), object(3)\n",
      "memory usage: 477.5+ KB\n"
     ]
    }
   ],
   "source": [
    "x_test.info()"
   ]
  },
  {
   "cell_type": "code",
   "execution_count": 59,
   "metadata": {},
   "outputs": [],
   "source": [
    "#As we have two currency we can convert it into 1 by exchage rate \n",
    "#Taking average exachange rate as 0.8 from cad to usd in 2019\n",
    "x_train['invoice_currency'] = x_train['invoice_currency'].str.replace('CAD', \"0.8\")\n",
    "x_train['invoice_currency'] = x_train['invoice_currency'].str.replace('USD', \"1\")\n",
    "x_val['invoice_currency'] = x_val['invoice_currency'].str.replace('CAD', \"0.8\")\n",
    "x_val['invoice_currency'] = x_val['invoice_currency'].str.replace('USD', \"1\")\n",
    "x_test['invoice_currency'] = x_test['invoice_currency'].str.replace('CAD', \"0.8\")\n",
    "x_test['invoice_currency'] = x_test['invoice_currency'].str.replace('USD', \"1\")\n"
   ]
  },
  {
   "cell_type": "code",
   "execution_count": 60,
   "metadata": {},
   "outputs": [],
   "source": [
    "x_train['invoice_currency'] = x_train['invoice_currency'].astype(float)\n",
    "x_val['invoice_currency'] = x_val['invoice_currency'].astype(float)\n",
    "x_test['invoice_currency'] = x_test['invoice_currency'].astype(float)"
   ]
  },
  {
   "cell_type": "code",
   "execution_count": 61,
   "metadata": {},
   "outputs": [],
   "source": [
    "x_train['customer_num'] = x_train['customer_num'].astype(int)\n",
    "x_val['customer_num'] = x_val['customer_num'].astype(int)\n",
    "x_test['customer_num'] = x_test['customer_num'].astype(int)"
   ]
  },
  {
   "cell_type": "code",
   "execution_count": null,
   "metadata": {
    "scrolled": true
   },
   "outputs": [],
   "source": []
  },
  {
   "cell_type": "code",
   "execution_count": 62,
   "metadata": {},
   "outputs": [],
   "source": [
    "#Converting the currency\n",
    "x_train['total_amt_nom'] = x_train['invoice_currency']*x_train['total_open_amount']\n",
    "x_val['total_amt_nom'] = x_val['invoice_currency']*x_val['total_open_amount']\n",
    "x_test['total_amt_nom'] = x_test['invoice_currency']*x_test['total_open_amount']"
   ]
  },
  {
   "cell_type": "code",
   "execution_count": 63,
   "metadata": {},
   "outputs": [],
   "source": [
    "#extracting datetime into month and days\n",
    "x_train[\"doc_create_day\"] = x_train[\"document_create_date.1\"].dt.day\n",
    "x_train[\"doc_create_month\"] =x_train[\"document_create_date.1\"].dt.month\n",
    "x_val[\"doc_create_day\"] = x_val[\"document_create_date.1\"].dt.day\n",
    "x_val[\"doc_create_month\"] =x_val[\"document_create_date.1\"].dt.month\n",
    "x_test[\"doc_create_day\"] = x_test[\"document_create_date.1\"].dt.day\n",
    "x_test[\"doc_create_month\"] =x_test[\"document_create_date.1\"].dt.month\n"
   ]
  },
  {
   "cell_type": "code",
   "execution_count": 64,
   "metadata": {},
   "outputs": [],
   "source": [
    "x_train[\"due_day\"] = x_train[\"due_in_date\"].dt.day\n",
    "x_train[\"due_month\"] =x_train[\"due_in_date\"].dt.month\n",
    "x_val[\"due_day\"] = x_val[\"due_in_date\"].dt.day\n",
    "x_val[\"due_month\"] =x_val[\"due_in_date\"].dt.month\n",
    "x_test[\"due_day\"] = x_test[\"due_in_date\"].dt.day\n",
    "x_test[\"due_month\"] =x_test[\"due_in_date\"].dt.month"
   ]
  },
  {
   "cell_type": "code",
   "execution_count": 65,
   "metadata": {},
   "outputs": [
    {
     "name": "stdout",
     "output_type": "stream",
     "text": [
      "<class 'pandas.core.frame.DataFrame'>\n",
      "Int64Index: 29337 entries, 17783 to 36000\n",
      "Data columns (total 17 columns):\n",
      "clear_date                29337 non-null datetime64[ns]\n",
      "doc_id                    29337 non-null float64\n",
      "posting_date              29337 non-null datetime64[ns]\n",
      "document_create_date.1    29337 non-null datetime64[ns]\n",
      "due_in_date               29337 non-null datetime64[ns]\n",
      "invoice_currency          29337 non-null float64\n",
      "total_open_amount         29337 non-null float64\n",
      "baseline_create_date      29337 non-null float64\n",
      "cust_payment_terms        29337 non-null object\n",
      "invoice_id                29337 non-null float64\n",
      "business_enc              29337 non-null int32\n",
      "customer_num              29337 non-null int32\n",
      "total_amt_nom             29337 non-null float64\n",
      "doc_create_day            29337 non-null int64\n",
      "doc_create_month          29337 non-null int64\n",
      "due_day                   29337 non-null int64\n",
      "due_month                 29337 non-null int64\n",
      "dtypes: datetime64[ns](4), float64(6), int32(2), int64(4), object(1)\n",
      "memory usage: 5.1+ MB\n"
     ]
    }
   ],
   "source": [
    "x_train.info()"
   ]
  },
  {
   "cell_type": "code",
   "execution_count": 66,
   "metadata": {},
   "outputs": [],
   "source": [
    "#final drop of unwanted column\n",
    "x_train.drop(columns=['clear_date', 'posting_date','document_create_date.1' ,'invoice_currency','due_in_date','cust_payment_terms'],axis=1, inplace=True)"
   ]
  },
  {
   "cell_type": "code",
   "execution_count": 67,
   "metadata": {},
   "outputs": [],
   "source": [
    "x_val.drop(columns=['clear_date', 'posting_date','document_create_date.1' ,'invoice_currency','due_in_date','cust_payment_terms'],axis=1, inplace=True)\n",
    "x_test.drop(columns=['clear_date', 'posting_date','document_create_date.1' ,'invoice_currency','due_in_date','cust_payment_terms'],axis=1, inplace=True)"
   ]
  },
  {
   "cell_type": "code",
   "execution_count": 68,
   "metadata": {},
   "outputs": [
    {
     "name": "stdout",
     "output_type": "stream",
     "text": [
      "<class 'pandas.core.frame.DataFrame'>\n",
      "Int64Index: 29337 entries, 17783 to 36000\n",
      "Data columns (total 11 columns):\n",
      "doc_id                  29337 non-null float64\n",
      "total_open_amount       29337 non-null float64\n",
      "baseline_create_date    29337 non-null float64\n",
      "invoice_id              29337 non-null float64\n",
      "business_enc            29337 non-null int32\n",
      "customer_num            29337 non-null int32\n",
      "total_amt_nom           29337 non-null float64\n",
      "doc_create_day          29337 non-null int64\n",
      "doc_create_month        29337 non-null int64\n",
      "due_day                 29337 non-null int64\n",
      "due_month               29337 non-null int64\n",
      "dtypes: float64(5), int32(2), int64(4)\n",
      "memory usage: 3.7 MB\n"
     ]
    }
   ],
   "source": [
    "x_train.info()"
   ]
  },
  {
   "cell_type": "markdown",
   "metadata": {},
   "source": [
    "## Feature Selection"
   ]
  },
  {
   "cell_type": "markdown",
   "metadata": {},
   "source": [
    "### Filter method using correlation function"
   ]
  },
  {
   "cell_type": "code",
   "execution_count": 69,
   "metadata": {},
   "outputs": [
    {
     "data": {
      "text/plain": [
       "<matplotlib.axes._subplots.AxesSubplot at 0x2a552a059c8>"
      ]
     },
     "execution_count": 69,
     "metadata": {},
     "output_type": "execute_result"
    },
    {
     "data": {
      "image/png": "[encoded data removed]",
      "text/plain": [
       "<Figure size 1008x576 with 2 Axes>"
      ]
     },
     "metadata": {
      "needs_background": "light"
     },
     "output_type": "display_data"
    }
   ],
   "source": [
    "corr=x_train.corr()\n",
    "plt.figure(figsize=(14,8))\n",
    "sns.heatmap(corr,annot=True)"
   ]
  },
  {
   "cell_type": "code",
   "execution_count": 70,
   "metadata": {},
   "outputs": [],
   "source": [
    "def handling_correlation(df,threshold=0.8):\n",
    "    # creating set to hold the correlated features\n",
    "    corr_features = set()\n",
    "    # create the correlation matrix (default to pearson)\n",
    "    corr_matrix = df.corr()\n",
    "    #code for selecting all correleated features\n",
    "    for i in range(len(corr_matrix .columns)):\n",
    "        for j in range(i):\n",
    "            if abs(corr_matrix.iloc[i, j]) >threshold:\n",
    "                colname = corr_matrix.columns[i]\n",
    "                corr_features.add(colname)\n",
    "    return list(corr_features)"
   ]
  },
  {
   "cell_type": "code",
   "execution_count": 71,
   "metadata": {},
   "outputs": [
    {
     "data": {
      "text/plain": [
       "['total_amt_nom', 'invoice_id', 'due_month']"
      ]
     },
     "execution_count": 71,
     "metadata": {},
     "output_type": "execute_result"
    }
   ],
   "source": [
    "handling_correlation(x_train.copy(),0.85)"
   ]
  },
  {
   "cell_type": "code",
   "execution_count": 72,
   "metadata": {},
   "outputs": [],
   "source": [
    "x_train.drop(columns=['invoice_id','total_open_amount'],axis=1, inplace=True)"
   ]
  },
  {
   "cell_type": "code",
   "execution_count": 73,
   "metadata": {},
   "outputs": [],
   "source": [
    "x_test.drop(columns=['invoice_id','total_open_amount'],axis=1, inplace=True)\n",
    "x_val.drop(columns=['invoice_id','total_open_amount'],axis=1, inplace=True)"
   ]
  },
  {
   "cell_type": "markdown",
   "metadata": {},
   "source": [
    "### Embedded method"
   ]
  },
  {
   "cell_type": "code",
   "execution_count": 74,
   "metadata": {},
   "outputs": [],
   "source": [
    "def tree_based_feature_importance(x_train,y_train):\n",
    "    from sklearn.ensemble import RandomForestRegressor\n",
    "    # create the random forest model\n",
    "    model = RandomForestRegressor(n_estimators=120)\n",
    "\n",
    "    # fit the model to start training.\n",
    "    model.fit(x_train, y_train)\n",
    "\n",
    "    # get the importance of the resulting features.\n",
    "    importances = model.feature_importances_\n",
    "\n",
    "    # create a data frame for visualization.\n",
    "    final_df = pd.DataFrame({\"Features\": x_train.columns, \"Importances\":importances})\n",
    "    final_df.set_index('Importances')\n",
    "\n",
    "    # sort in descending order \n",
    "    final_df = final_df.sort_values('Importances',ascending=False)\n",
    "    \n",
    "    #visualising feature importance\n",
    "    pd.Series(model.feature_importances_, index=x_train.columns).nlargest(6).plot(kind='barh')  \n",
    "    return final_df"
   ]
  },
  {
   "cell_type": "code",
   "execution_count": 75,
   "metadata": {},
   "outputs": [
    {
     "data": {
      "image/png": "[encoded data removed]",
      "text/plain": [
       "<Figure size 432x288 with 1 Axes>"
      ]
     },
     "metadata": {
      "needs_background": "light"
     },
     "output_type": "display_data"
    }
   ],
   "source": [
    "feature_importance=tree_based_feature_importance(x_train,y_train)"
   ]
  },
  {
   "cell_type": "code",
   "execution_count": 76,
   "metadata": {},
   "outputs": [
    {
     "data": {
      "text/html": [
       "<div>\n",
       "<style scoped>\n",
       "    .dataframe tbody tr th:only-of-type {\n",
       "        vertical-align: middle;\n",
       "    }\n",
       "\n",
       "    .dataframe tbody tr th {\n",
       "        vertical-align: top;\n",
       "    }\n",
       "\n",
       "    .dataframe thead th {\n",
       "        text-align: right;\n",
       "    }\n",
       "</style>\n",
       "<table border=\"1\" class=\"dataframe\">\n",
       "  <thead>\n",
       "    <tr style=\"text-align: right;\">\n",
       "      <th></th>\n",
       "      <th>Features</th>\n",
       "      <th>Importances</th>\n",
       "    </tr>\n",
       "  </thead>\n",
       "  <tbody>\n",
       "    <tr>\n",
       "      <td>3</td>\n",
       "      <td>customer_num</td>\n",
       "      <td>0.399899</td>\n",
       "    </tr>\n",
       "    <tr>\n",
       "      <td>4</td>\n",
       "      <td>total_amt_nom</td>\n",
       "      <td>0.202094</td>\n",
       "    </tr>\n",
       "    <tr>\n",
       "      <td>0</td>\n",
       "      <td>doc_id</td>\n",
       "      <td>0.131531</td>\n",
       "    </tr>\n",
       "    <tr>\n",
       "      <td>7</td>\n",
       "      <td>due_day</td>\n",
       "      <td>0.080412</td>\n",
       "    </tr>\n",
       "    <tr>\n",
       "      <td>5</td>\n",
       "      <td>doc_create_day</td>\n",
       "      <td>0.077446</td>\n",
       "    </tr>\n",
       "    <tr>\n",
       "      <td>1</td>\n",
       "      <td>baseline_create_date</td>\n",
       "      <td>0.051504</td>\n",
       "    </tr>\n",
       "    <tr>\n",
       "      <td>8</td>\n",
       "      <td>due_month</td>\n",
       "      <td>0.034378</td>\n",
       "    </tr>\n",
       "    <tr>\n",
       "      <td>6</td>\n",
       "      <td>doc_create_month</td>\n",
       "      <td>0.017663</td>\n",
       "    </tr>\n",
       "    <tr>\n",
       "      <td>2</td>\n",
       "      <td>business_enc</td>\n",
       "      <td>0.005073</td>\n",
       "    </tr>\n",
       "  </tbody>\n",
       "</table>\n",
       "</div>"
      ],
      "text/plain": [
       "               Features  Importances\n",
       "3          customer_num     0.399899\n",
       "4         total_amt_nom     0.202094\n",
       "0                doc_id     0.131531\n",
       "7               due_day     0.080412\n",
       "5        doc_create_day     0.077446\n",
       "1  baseline_create_date     0.051504\n",
       "8             due_month     0.034378\n",
       "6      doc_create_month     0.017663\n",
       "2          business_enc     0.005073"
      ]
     },
     "metadata": {},
     "output_type": "display_data"
    }
   ],
   "source": [
    "display(feature_importance)"
   ]
  },
  {
   "cell_type": "code",
   "execution_count": 77,
   "metadata": {},
   "outputs": [
    {
     "name": "stdout",
     "output_type": "stream",
     "text": [
      "<class 'pandas.core.frame.DataFrame'>\n",
      "Int64Index: 29337 entries, 17783 to 36000\n",
      "Data columns (total 9 columns):\n",
      "doc_id                  29337 non-null float64\n",
      "baseline_create_date    29337 non-null float64\n",
      "business_enc            29337 non-null int32\n",
      "customer_num            29337 non-null int32\n",
      "total_amt_nom           29337 non-null float64\n",
      "doc_create_day          29337 non-null int64\n",
      "doc_create_month        29337 non-null int64\n",
      "due_day                 29337 non-null int64\n",
      "due_month               29337 non-null int64\n",
      "dtypes: float64(3), int32(2), int64(4)\n",
      "memory usage: 3.3 MB\n"
     ]
    }
   ],
   "source": [
    "x_train.info()"
   ]
  },
  {
   "cell_type": "markdown",
   "metadata": {},
   "source": [
    "# Modelling"
   ]
  },
  {
   "cell_type": "markdown",
   "metadata": {},
   "source": [
    "### Since it is regression based model we will use\n",
    "#### LinearRegressor\n",
    "#### RandomForestRegeresor\n"
   ]
  },
  {
   "cell_type": "code",
   "execution_count": 78,
   "metadata": {},
   "outputs": [
    {
     "data": {
      "text/plain": [
       "LinearRegression(copy_X=True, fit_intercept=True, n_jobs=None, normalize=False)"
      ]
     },
     "execution_count": 78,
     "metadata": {},
     "output_type": "execute_result"
    }
   ],
   "source": [
    "#Using linear regression model and checkking the parameter\n",
    "from sklearn.linear_model import LinearRegression\n",
    "base_model = LinearRegression()\n",
    "base_model.fit(x_train, y_train)"
   ]
  },
  {
   "cell_type": "code",
   "execution_count": 79,
   "metadata": {},
   "outputs": [],
   "source": [
    "#predicting the value of validation set\n",
    "y_predict = base_model.predict(x_val)"
   ]
  },
  {
   "cell_type": "code",
   "execution_count": 80,
   "metadata": {},
   "outputs": [
    {
     "name": "stdout",
     "output_type": "stream",
     "text": [
      "14.06749141783372\n"
     ]
    }
   ],
   "source": [
    "#checking root mean squared error\n",
    "from sklearn.metrics import mean_squared_error\n",
    "from math import sqrt\n",
    "rmse = sqrt(mean_squared_error(y_val, y_predict))\n",
    "print(rmse)"
   ]
  },
  {
   "cell_type": "code",
   "execution_count": 81,
   "metadata": {},
   "outputs": [],
   "source": [
    "#predicting value for test set\n",
    "y_test_predict = base_model.predict(x_test)"
   ]
  },
  {
   "cell_type": "code",
   "execution_count": 82,
   "metadata": {},
   "outputs": [
    {
     "name": "stdout",
     "output_type": "stream",
     "text": [
      "33.606780934556504\n"
     ]
    }
   ],
   "source": [
    "#Erooor for test set\n",
    "rmse_test = sqrt(mean_squared_error(y_test, y_test_predict))\n",
    "print(rmse_test)"
   ]
  },
  {
   "cell_type": "code",
   "execution_count": 83,
   "metadata": {},
   "outputs": [
    {
     "data": {
      "text/plain": [
       "-830.2458537185522"
      ]
     },
     "execution_count": 83,
     "metadata": {},
     "output_type": "execute_result"
    }
   ],
   "source": [
    "#Model accuracy score\n",
    "base_model.score(x_test,y_test)* 100"
   ]
  },
  {
   "cell_type": "code",
   "execution_count": 84,
   "metadata": {},
   "outputs": [
    {
     "data": {
      "text/plain": [
       "RandomForestRegressor(bootstrap=True, criterion='mse', max_depth=None,\n",
       "                      max_features='auto', max_leaf_nodes=None,\n",
       "                      min_impurity_decrease=0.0, min_impurity_split=None,\n",
       "                      min_samples_leaf=1, min_samples_split=2,\n",
       "                      min_weight_fraction_leaf=0.0, n_estimators=10,\n",
       "                      n_jobs=None, oob_score=False, random_state=None,\n",
       "                      verbose=0, warm_start=False)"
      ]
     },
     "execution_count": 84,
     "metadata": {},
     "output_type": "execute_result"
    }
   ],
   "source": [
    "#Creting randomForest model\n",
    "from sklearn.ensemble import RandomForestRegressor\n",
    "fregress = RandomForestRegressor()\n",
    "fregress.fit(x_train, y_train)"
   ]
  },
  {
   "cell_type": "code",
   "execution_count": 85,
   "metadata": {},
   "outputs": [],
   "source": [
    "#predicting the value of validation set\n",
    "y_predict2 = fregress.predict(x_val)"
   ]
  },
  {
   "cell_type": "code",
   "execution_count": 86,
   "metadata": {},
   "outputs": [
    {
     "name": "stdout",
     "output_type": "stream",
     "text": [
      "9.501859201650667\n"
     ]
    }
   ],
   "source": [
    "rmse2 = sqrt(mean_squared_error(y_val, y_predict2))\n",
    "print(rmse2)"
   ]
  },
  {
   "cell_type": "code",
   "execution_count": 87,
   "metadata": {},
   "outputs": [],
   "source": [
    "y_test_predict2 = fregress.predict(x_test)"
   ]
  },
  {
   "cell_type": "code",
   "execution_count": 88,
   "metadata": {},
   "outputs": [
    {
     "name": "stdout",
     "output_type": "stream",
     "text": [
      "10.335675603657899\n"
     ]
    }
   ],
   "source": [
    "rmse_test2 = sqrt(mean_squared_error(y_test, y_test_predict2))\n",
    "print(rmse_test2)"
   ]
  },
  {
   "cell_type": "code",
   "execution_count": 89,
   "metadata": {},
   "outputs": [
    {
     "data": {
      "text/plain": [
       "12.012363289584394"
      ]
     },
     "execution_count": 89,
     "metadata": {},
     "output_type": "execute_result"
    }
   ],
   "source": [
    "fregress.score(x_test,y_test) *100"
   ]
  },
  {
   "cell_type": "markdown",
   "metadata": {},
   "source": [
    "## Doing some hyperparameter tuning"
   ]
  },
  {
   "cell_type": "code",
   "execution_count": 90,
   "metadata": {},
   "outputs": [
    {
     "data": {
      "text/plain": [
       "RandomForestRegressor(bootstrap=True, criterion='mse', max_depth=4,\n",
       "                      max_features='auto', max_leaf_nodes=None,\n",
       "                      min_impurity_decrease=0.0, min_impurity_split=None,\n",
       "                      min_samples_leaf=1, min_samples_split=2,\n",
       "                      min_weight_fraction_leaf=0.0, n_estimators=10,\n",
       "                      n_jobs=None, oob_score=False, random_state=0, verbose=0,\n",
       "                      warm_start=False)"
      ]
     },
     "execution_count": 90,
     "metadata": {},
     "output_type": "execute_result"
    }
   ],
   "source": [
    "\n",
    "hregress = RandomForestRegressor(max_depth=4, random_state=0)\n",
    "hregress.fit(x_train, y_train)\n"
   ]
  },
  {
   "cell_type": "code",
   "execution_count": 91,
   "metadata": {},
   "outputs": [],
   "source": [
    "y_predict3 = hregress.predict(x_val)"
   ]
  },
  {
   "cell_type": "code",
   "execution_count": 92,
   "metadata": {},
   "outputs": [
    {
     "name": "stdout",
     "output_type": "stream",
     "text": [
      "5.704487925020202\n"
     ]
    }
   ],
   "source": [
    "rmse3 = sqrt(mean_squared_error(y_val, y_predict3))\n",
    "print(rmse3)"
   ]
  },
  {
   "cell_type": "code",
   "execution_count": 93,
   "metadata": {},
   "outputs": [],
   "source": [
    "y_test_predict3 = hregress.predict(x_test)"
   ]
  },
  {
   "cell_type": "code",
   "execution_count": 94,
   "metadata": {},
   "outputs": [
    {
     "name": "stdout",
     "output_type": "stream",
     "text": [
      "8.40830537445794\n"
     ]
    }
   ],
   "source": [
    "rmse_test3 = sqrt(mean_squared_error(y_test, y_test_predict3))\n",
    "print(rmse_test3)"
   ]
  },
  {
   "cell_type": "code",
   "execution_count": 95,
   "metadata": {},
   "outputs": [
    {
     "data": {
      "text/plain": [
       "41.768112806088396"
      ]
     },
     "execution_count": 95,
     "metadata": {},
     "output_type": "execute_result"
    }
   ],
   "source": [
    "hregress.score(x_test,y_test) *100"
   ]
  },
  {
   "cell_type": "markdown",
   "metadata": {},
   "source": [
    "## Now we will work on the test_data part and generate the payment date"
   ]
  },
  {
   "cell_type": "code",
   "execution_count": 96,
   "metadata": {},
   "outputs": [],
   "source": [
    "test_data = test.copy()"
   ]
  },
  {
   "cell_type": "code",
   "execution_count": 97,
   "metadata": {},
   "outputs": [],
   "source": [
    "#workin on test set to make model tto be predicted\n",
    "test_data['customer_num']= test_data['cust_number'].str.extract('(\\d+)')\n",
    "test_data['customer_num'] = test_data['customer_num'].astype(int)"
   ]
  },
  {
   "cell_type": "code",
   "execution_count": 98,
   "metadata": {},
   "outputs": [],
   "source": [
    "#dropping the unwanted column\n",
    "test_data.drop(columns=['buisness_year', 'document type', 'posting_id', 'isOpen','document_create_date','area_business','cust_number','name_customer'], inplace=True)"
   ]
  },
  {
   "cell_type": "code",
   "execution_count": 99,
   "metadata": {},
   "outputs": [],
   "source": [
    "encoder.fit(test_data['business_code'])\n",
    "test_data['business_enc'] = encoder.transform(test_data['business_code'])"
   ]
  },
  {
   "cell_type": "code",
   "execution_count": 100,
   "metadata": {},
   "outputs": [],
   "source": [
    "#Now dropping buisness_code and invoice id\n",
    "test_data.drop(columns=['business_code','invoice_id'], inplace=True)"
   ]
  },
  {
   "cell_type": "code",
   "execution_count": 101,
   "metadata": {},
   "outputs": [],
   "source": [
    "test_data.dropna(axis = 1, inplace= True)"
   ]
  },
  {
   "cell_type": "code",
   "execution_count": 102,
   "metadata": {},
   "outputs": [
    {
     "name": "stdout",
     "output_type": "stream",
     "text": [
      "<class 'pandas.core.frame.DataFrame'>\n",
      "Int64Index: 10000 entries, 3 to 49989\n",
      "Data columns (total 10 columns):\n",
      "doc_id                    10000 non-null float64\n",
      "posting_date              10000 non-null object\n",
      "document_create_date.1    10000 non-null int64\n",
      "due_in_date               10000 non-null float64\n",
      "invoice_currency          10000 non-null object\n",
      "total_open_amount         10000 non-null float64\n",
      "baseline_create_date      10000 non-null float64\n",
      "cust_payment_terms        10000 non-null object\n",
      "customer_num              10000 non-null int32\n",
      "business_enc              10000 non-null int32\n",
      "dtypes: float64(4), int32(2), int64(1), object(3)\n",
      "memory usage: 781.2+ KB\n"
     ]
    }
   ],
   "source": [
    "test_data.info()"
   ]
  },
  {
   "cell_type": "code",
   "execution_count": 103,
   "metadata": {},
   "outputs": [],
   "source": [
    "test_data['invoice_currency'] = test_data['invoice_currency'].str.replace('CAD', \"0.8\")\n",
    "test_data['invoice_currency'] = test_data['invoice_currency'].str.replace('USD', \"1\")"
   ]
  },
  {
   "cell_type": "code",
   "execution_count": 104,
   "metadata": {},
   "outputs": [],
   "source": [
    "test_data['invoice_currency'] = test_data['invoice_currency'].astype(float)"
   ]
  },
  {
   "cell_type": "code",
   "execution_count": 105,
   "metadata": {},
   "outputs": [],
   "source": [
    "test_data['total_amt_nom'] = test_data['invoice_currency']* test_data['total_open_amount']"
   ]
  },
  {
   "cell_type": "code",
   "execution_count": 106,
   "metadata": {},
   "outputs": [],
   "source": [
    "test_data['document_create_date.1'] = pd.to_datetime(test_data['document_create_date.1'], format ='%Y%m%d')\n",
    "test_data['due_in_date'] = pd.to_datetime(test_data['due_in_date'],format='%Y%m%d')"
   ]
  },
  {
   "cell_type": "code",
   "execution_count": 107,
   "metadata": {},
   "outputs": [],
   "source": [
    "test_data[\"doc_create_day\"] = test_data[\"document_create_date.1\"].dt.day\n",
    "test_data[\"doc_create_month\"] = test_data[\"document_create_date.1\"].dt.month\n",
    "test_data[\"due_day\"] = test_data[\"due_in_date\"].dt.day\n",
    "test_data[\"due_month\"] =test_data[\"due_in_date\"].dt.month\n"
   ]
  },
  {
   "cell_type": "code",
   "execution_count": 108,
   "metadata": {},
   "outputs": [],
   "source": [
    "test_data.drop(columns=['posting_date','document_create_date.1','due_in_date','invoice_currency','total_open_amount',], axis=1, inplace=True)"
   ]
  },
  {
   "cell_type": "code",
   "execution_count": 109,
   "metadata": {},
   "outputs": [
    {
     "name": "stdout",
     "output_type": "stream",
     "text": [
      "<class 'pandas.core.frame.DataFrame'>\n",
      "Int64Index: 10000 entries, 3 to 49989\n",
      "Data columns (total 10 columns):\n",
      "doc_id                  10000 non-null float64\n",
      "baseline_create_date    10000 non-null float64\n",
      "cust_payment_terms      10000 non-null object\n",
      "customer_num            10000 non-null int32\n",
      "business_enc            10000 non-null int32\n",
      "total_amt_nom           10000 non-null float64\n",
      "doc_create_day          10000 non-null int64\n",
      "doc_create_month        10000 non-null int64\n",
      "due_day                 10000 non-null int64\n",
      "due_month               10000 non-null int64\n",
      "dtypes: float64(3), int32(2), int64(4), object(1)\n",
      "memory usage: 781.2+ KB\n"
     ]
    }
   ],
   "source": [
    "test_data.info()"
   ]
  },
  {
   "cell_type": "code",
   "execution_count": 110,
   "metadata": {},
   "outputs": [],
   "source": [
    "test_data.drop('cust_payment_terms',axis = 1, inplace = True)"
   ]
  },
  {
   "cell_type": "code",
   "execution_count": 111,
   "metadata": {},
   "outputs": [
    {
     "name": "stdout",
     "output_type": "stream",
     "text": [
      "<class 'pandas.core.frame.DataFrame'>\n",
      "Int64Index: 10000 entries, 3 to 49989\n",
      "Data columns (total 9 columns):\n",
      "doc_id                  10000 non-null float64\n",
      "baseline_create_date    10000 non-null float64\n",
      "customer_num            10000 non-null int32\n",
      "business_enc            10000 non-null int32\n",
      "total_amt_nom           10000 non-null float64\n",
      "doc_create_day          10000 non-null int64\n",
      "doc_create_month        10000 non-null int64\n",
      "due_day                 10000 non-null int64\n",
      "due_month               10000 non-null int64\n",
      "dtypes: float64(3), int32(2), int64(4)\n",
      "memory usage: 703.1 KB\n"
     ]
    }
   ],
   "source": [
    "test_data.info()"
   ]
  },
  {
   "cell_type": "code",
   "execution_count": 112,
   "metadata": {},
   "outputs": [],
   "source": [
    "#Now data is ready so that value can be predicted"
   ]
  },
  {
   "cell_type": "code",
   "execution_count": 113,
   "metadata": {},
   "outputs": [],
   "source": [
    "#hregress is best model so owe will use that \n",
    "predicted = hregress.predict(test_data)"
   ]
  },
  {
   "cell_type": "code",
   "execution_count": 114,
   "metadata": {},
   "outputs": [
    {
     "data": {
      "text/plain": [
       "array([15, 14, 14, ...,  2, 14, 15])"
      ]
     },
     "execution_count": 114,
     "metadata": {},
     "output_type": "execute_result"
    }
   ],
   "source": [
    "predicted=np.around(predicted)\n",
    "predicted.astype(int)"
   ]
  },
  {
   "cell_type": "code",
   "execution_count": 115,
   "metadata": {},
   "outputs": [],
   "source": [
    "#creating new dataframe\n",
    "result = pd.DataFrame()"
   ]
  },
  {
   "cell_type": "code",
   "execution_count": 116,
   "metadata": {},
   "outputs": [
    {
     "data": {
      "text/html": [
       "<div>\n",
       "<style scoped>\n",
       "    .dataframe tbody tr th:only-of-type {\n",
       "        vertical-align: middle;\n",
       "    }\n",
       "\n",
       "    .dataframe tbody tr th {\n",
       "        vertical-align: top;\n",
       "    }\n",
       "\n",
       "    .dataframe thead th {\n",
       "        text-align: right;\n",
       "    }\n",
       "</style>\n",
       "<table border=\"1\" class=\"dataframe\">\n",
       "  <thead>\n",
       "    <tr style=\"text-align: right;\">\n",
       "      <th></th>\n",
       "      <th>delay</th>\n",
       "    </tr>\n",
       "  </thead>\n",
       "  <tbody>\n",
       "    <tr>\n",
       "      <td>0</td>\n",
       "      <td>15 days</td>\n",
       "    </tr>\n",
       "    <tr>\n",
       "      <td>1</td>\n",
       "      <td>14 days</td>\n",
       "    </tr>\n",
       "    <tr>\n",
       "      <td>2</td>\n",
       "      <td>14 days</td>\n",
       "    </tr>\n",
       "    <tr>\n",
       "      <td>3</td>\n",
       "      <td>2 days</td>\n",
       "    </tr>\n",
       "    <tr>\n",
       "      <td>4</td>\n",
       "      <td>3 days</td>\n",
       "    </tr>\n",
       "    <tr>\n",
       "      <td>...</td>\n",
       "      <td>...</td>\n",
       "    </tr>\n",
       "    <tr>\n",
       "      <td>9995</td>\n",
       "      <td>15 days</td>\n",
       "    </tr>\n",
       "    <tr>\n",
       "      <td>9996</td>\n",
       "      <td>14 days</td>\n",
       "    </tr>\n",
       "    <tr>\n",
       "      <td>9997</td>\n",
       "      <td>2 days</td>\n",
       "    </tr>\n",
       "    <tr>\n",
       "      <td>9998</td>\n",
       "      <td>14 days</td>\n",
       "    </tr>\n",
       "    <tr>\n",
       "      <td>9999</td>\n",
       "      <td>15 days</td>\n",
       "    </tr>\n",
       "  </tbody>\n",
       "</table>\n",
       "<p>10000 rows × 1 columns</p>\n",
       "</div>"
      ],
      "text/plain": [
       "       delay\n",
       "0    15 days\n",
       "1    14 days\n",
       "2    14 days\n",
       "3     2 days\n",
       "4     3 days\n",
       "...      ...\n",
       "9995 15 days\n",
       "9996 14 days\n",
       "9997  2 days\n",
       "9998 14 days\n",
       "9999 15 days\n",
       "\n",
       "[10000 rows x 1 columns]"
      ]
     },
     "execution_count": 116,
     "metadata": {},
     "output_type": "execute_result"
    }
   ],
   "source": [
    "delay = []\n",
    "for x in predicted:\n",
    "    delay.append(pd.Timedelta(days=x))\n",
    "result['delay'] = delay\n",
    "result"
   ]
  },
  {
   "cell_type": "markdown",
   "metadata": {},
   "source": [
    "##### Predicting the clear date"
   ]
  },
  {
   "cell_type": "code",
   "execution_count": 117,
   "metadata": {},
   "outputs": [],
   "source": [
    "test['due_in_date'] = pd.to_datetime(test['due_in_date'], format='%Y%m%d')"
   ]
  },
  {
   "cell_type": "code",
   "execution_count": 118,
   "metadata": {},
   "outputs": [],
   "source": [
    "result['clear_date'] = test['due_in_date'] + result['delay']"
   ]
  },
  {
   "cell_type": "code",
   "execution_count": 121,
   "metadata": {
    "scrolled": true
   },
   "outputs": [],
   "source": [
    "#add time delta to datetime it will give payment date"
   ]
  },
  {
   "cell_type": "code",
   "execution_count": 122,
   "metadata": {},
   "outputs": [
    {
     "data": {
      "text/html": [
       "<div>\n",
       "<style scoped>\n",
       "    .dataframe tbody tr th:only-of-type {\n",
       "        vertical-align: middle;\n",
       "    }\n",
       "\n",
       "    .dataframe tbody tr th {\n",
       "        vertical-align: top;\n",
       "    }\n",
       "\n",
       "    .dataframe thead th {\n",
       "        text-align: right;\n",
       "    }\n",
       "</style>\n",
       "<table border=\"1\" class=\"dataframe\">\n",
       "  <thead>\n",
       "    <tr style=\"text-align: right;\">\n",
       "      <th></th>\n",
       "      <th>clear_date</th>\n",
       "      <th>bucket</th>\n",
       "    </tr>\n",
       "  </thead>\n",
       "  <tbody>\n",
       "    <tr>\n",
       "      <td>0</td>\n",
       "      <td>NaT</td>\n",
       "      <td>0-15days</td>\n",
       "    </tr>\n",
       "    <tr>\n",
       "      <td>1</td>\n",
       "      <td>NaT</td>\n",
       "      <td>0-15days</td>\n",
       "    </tr>\n",
       "    <tr>\n",
       "      <td>2</td>\n",
       "      <td>NaT</td>\n",
       "      <td>0-15days</td>\n",
       "    </tr>\n",
       "    <tr>\n",
       "      <td>3</td>\n",
       "      <td>2020-04-19</td>\n",
       "      <td>0-15days</td>\n",
       "    </tr>\n",
       "    <tr>\n",
       "      <td>4</td>\n",
       "      <td>NaT</td>\n",
       "      <td>0-15days</td>\n",
       "    </tr>\n",
       "    <tr>\n",
       "      <td>...</td>\n",
       "      <td>...</td>\n",
       "      <td>...</td>\n",
       "    </tr>\n",
       "    <tr>\n",
       "      <td>9995</td>\n",
       "      <td>NaT</td>\n",
       "      <td>0-15days</td>\n",
       "    </tr>\n",
       "    <tr>\n",
       "      <td>9996</td>\n",
       "      <td>NaT</td>\n",
       "      <td>0-15days</td>\n",
       "    </tr>\n",
       "    <tr>\n",
       "      <td>9997</td>\n",
       "      <td>NaT</td>\n",
       "      <td>0-15days</td>\n",
       "    </tr>\n",
       "    <tr>\n",
       "      <td>9998</td>\n",
       "      <td>NaT</td>\n",
       "      <td>0-15days</td>\n",
       "    </tr>\n",
       "    <tr>\n",
       "      <td>9999</td>\n",
       "      <td>NaT</td>\n",
       "      <td>0-15days</td>\n",
       "    </tr>\n",
       "  </tbody>\n",
       "</table>\n",
       "<p>10000 rows × 2 columns</p>\n",
       "</div>"
      ],
      "text/plain": [
       "     clear_date    bucket\n",
       "0           NaT  0-15days\n",
       "1           NaT  0-15days\n",
       "2           NaT  0-15days\n",
       "3    2020-04-19  0-15days\n",
       "4           NaT  0-15days\n",
       "...         ...       ...\n",
       "9995        NaT  0-15days\n",
       "9996        NaT  0-15days\n",
       "9997        NaT  0-15days\n",
       "9998        NaT  0-15days\n",
       "9999        NaT  0-15days\n",
       "\n",
       "[10000 rows x 2 columns]"
      ]
     },
     "execution_count": 122,
     "metadata": {},
     "output_type": "execute_result"
    }
   ],
   "source": [
    "bucket = []\n",
    "for x in predicted:\n",
    "    if x<=15:\n",
    "        bucket.append(\"0-15days\")\n",
    "    elif x<=30:\n",
    "        bucket.append(\"16-30days\")\n",
    "    elif x<=45:\n",
    "        bucket.append(\"31-45days\")\n",
    "    elif x<=60:\n",
    "        bucket.append(\"46-60days\")\n",
    "    else:\n",
    "        bucket.append(\"Greater than 60 days\")\n",
    "result['bucket']= bucket\n",
    "result.drop(['delay'],axis=1,inplace=True)\n",
    "result"
   ]
  },
  {
   "cell_type": "markdown",
   "metadata": {},
   "source": [
    "# END!!!"
   ]
  },
  {
   "cell_type": "code",
   "execution_count": 125,
   "metadata": {},
   "outputs": [],
   "source": [
    "#there are some error i will debug it in unpcoming days"
   ]
  }
 ],
 "metadata": {
  "kernelspec": {
   "display_name": "Python 3",
   "language": "python",
   "name": "python3"
  },
  "language_info": {
   "codemirror_mode": {
    "name": "ipython",
    "version": 3
   },
   "file_extension": ".py",
   "mimetype": "text/x-python",
   "name": "python",
   "nbconvert_exporter": "python",
   "pygments_lexer": "ipython3",
   "version": "3.7.4"
  }
 },
 "nbformat": 4,
 "nbformat_minor": 2
}
